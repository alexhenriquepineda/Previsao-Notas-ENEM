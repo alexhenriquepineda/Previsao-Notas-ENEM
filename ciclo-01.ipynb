{
 "cells": [
  {
   "cell_type": "markdown",
   "id": "2e27542e",
   "metadata": {},
   "source": [
    "# IMPORTS"
   ]
  },
  {
   "cell_type": "code",
   "execution_count": 7,
   "id": "fe9cb982",
   "metadata": {
    "ExecuteTime": {
     "end_time": "2022-02-18T18:46:31.495719Z",
     "start_time": "2022-02-18T18:46:31.484266Z"
    }
   },
   "outputs": [],
   "source": [
    "from tqdm import tqdm\n",
    "import datetime as dt\n",
    "import numpy as np\n",
    "import pandas as pd\n",
    "import seaborn as sns\n",
    "\n",
    "from matplotlib import pyplot as plt\n",
    "from IPython.core.display  import HTML"
   ]
  },
  {
   "cell_type": "markdown",
   "id": "f2af8b95",
   "metadata": {},
   "source": [
    "## HELPER FUNCTIONS"
   ]
  },
  {
   "cell_type": "code",
   "execution_count": 3,
   "id": "08345211",
   "metadata": {
    "ExecuteTime": {
     "end_time": "2022-02-18T18:45:30.623107Z",
     "start_time": "2022-02-18T18:45:30.612011Z"
    }
   },
   "outputs": [
    {
     "name": "stdout",
     "output_type": "stream",
     "text": [
      "Populating the interactive namespace from numpy and matplotlib\n"
     ]
    },
    {
     "data": {
      "text/html": [
       "<style>.container { width:100% !important; }</style>"
      ],
      "text/plain": [
       "<IPython.core.display.HTML object>"
      ]
     },
     "metadata": {},
     "output_type": "display_data"
    }
   ],
   "source": [
    "def jupyter_settings():\n",
    "    %matplotlib inline\n",
    "    %pylab inline\n",
    "    plt.style.use( 'bmh' )\n",
    "    plt.rcParams['figure.figsize'] = [16, 8]\n",
    "    plt.rcParams['font.size'] = 24\n",
    "    display( HTML( '<style>.container { width:100% !important; }</style>') )\n",
    "    pd.options.display.max_columns = None\n",
    "    pd.options.display.max_rows = None\n",
    "    pd.set_option( 'display.expand_frame_repr', False )\n",
    "    sns.set()\n",
    "    \n",
    "jupyter_settings()\n",
    "\n",
    "pd.set_option('display.float_format', lambda x: '%.2f' % x)"
   ]
  },
  {
   "cell_type": "markdown",
   "id": "4bc04d6b",
   "metadata": {},
   "source": [
    "# LOADING DATA"
   ]
  },
  {
   "cell_type": "code",
   "execution_count": 4,
   "id": "153f8061",
   "metadata": {
    "ExecuteTime": {
     "end_time": "2022-02-18T18:46:09.864899Z",
     "start_time": "2022-02-18T18:45:31.370087Z"
    }
   },
   "outputs": [],
   "source": [
    "# the number of row in each data frame\n",
    "# you can put any value here according to your situation\n",
    "chunksize = 1000\n",
    "\n",
    "# the list that contains all the dataframes\n",
    "list_of_dataframes = []\n",
    "\n",
    "for df in pd.read_csv('datasets/train.csv', chunksize=chunksize):\n",
    "    # process your data frame here\n",
    "    # then add the current data frame into the list\n",
    "    list_of_dataframes.append(df)\n",
    "\n",
    "# if you want all the dataframes together, here it is\n",
    "data = pd.concat(list_of_dataframes)"
   ]
  },
  {
   "cell_type": "markdown",
   "id": "fd4b7072",
   "metadata": {},
   "source": [
    "## DIMINUINDO MEMORIA"
   ]
  },
  {
   "cell_type": "code",
   "execution_count": 5,
   "id": "a938f028",
   "metadata": {
    "ExecuteTime": {
     "end_time": "2022-02-18T18:46:09.899046Z",
     "start_time": "2022-02-18T18:46:09.891776Z"
    }
   },
   "outputs": [],
   "source": [
    "def reduce_mem_usage(df):\n",
    "    \"\"\"\n",
    "    iterate through all the columns of a dataframe and modify the data type to reduce memory usage.\n",
    "    fonte: https://www.kaggle.com/valleyzw/ubiquant-lgbm-baseline  \n",
    "    \"\"\"\n",
    "    start_mem = df.memory_usage().sum() / 1024 ** 2\n",
    "    print('Memory usage of dataframe is {:.2f} MB'.format(start_mem))\n",
    "    \n",
    "    for col in tqdm([x for x in df.columns if 'NU_NOTA_' not in x]):\n",
    "        col_type = df[col].dtype\n",
    "        \n",
    "        if col_type != object:\n",
    "            c_min = df[col].min()\n",
    "            c_max = df[col].max()\n",
    "            if str(col_type)[:3] == 'int':\n",
    "                if c_min > np.iinfo(np.int8).min and c_max < np.iinfo(np.int8).max:\n",
    "                    df[col] = df[col].astype(np.int8)\n",
    "                elif c_min > np.iinfo(np.int16).min and c_max < np.iinfo(np.int16).max:\n",
    "                    df[col] = df[col].astype(np.int16)\n",
    "                elif c_min > np.iinfo(np.int32).min and c_max < np.iinfo(np.int32).max:\n",
    "                    df[col] = df[col].astype(np.int32)\n",
    "                elif c_min > np.iinfo(np.int64).min and c_max < np.iinfo(np.int64).max:\n",
    "                    df[col] = df[col].astype(np.int64)  \n",
    "            else:\n",
    "                if c_min > np.finfo(np.float16).min and c_max < np.finfo(np.float16).max:\n",
    "                    df[col] = df[col].astype(np.float16)\n",
    "                elif c_min > np.finfo(np.float32).min and c_max < np.finfo(np.float32).max:\n",
    "                    df[col] = df[col].astype(np.float32)\n",
    "                else:\n",
    "                    df[col] = df[col].astype(np.float64)\n",
    "        else:\n",
    "            df[col] = df[col].astype('category')\n",
    "\n",
    "    end_mem = df.memory_usage().sum() / 1024 ** 2\n",
    "    print('Memory usage after optimization is: {:.2f} MB'.format(end_mem))\n",
    "    print('Decreased by {:.1f}%'.format(100 * (start_mem - end_mem) / start_mem))\n",
    "    \n",
    "    return df"
   ]
  },
  {
   "cell_type": "code",
   "execution_count": 8,
   "id": "88cbfc8c",
   "metadata": {
    "ExecuteTime": {
     "end_time": "2022-02-18T18:47:00.102520Z",
     "start_time": "2022-02-18T18:46:35.748635Z"
    }
   },
   "outputs": [
    {
     "name": "stdout",
     "output_type": "stream",
     "text": [
      "Memory usage of dataframe is 2981.62 MB\n"
     ]
    },
    {
     "name": "stderr",
     "output_type": "stream",
     "text": [
      "100%|█████████████████████████████████████████| 113/113 [00:24<00:00,  4.64it/s]"
     ]
    },
    {
     "name": "stdout",
     "output_type": "stream",
     "text": [
      "Memory usage after optimization is: 732.86 MB\n",
      "Decreased by 75.4%\n"
     ]
    },
    {
     "name": "stderr",
     "output_type": "stream",
     "text": [
      "\n"
     ]
    }
   ],
   "source": [
    "df1 = reduce_mem_usage(data)"
   ]
  },
  {
   "cell_type": "markdown",
   "id": "1a4d3a0d",
   "metadata": {},
   "source": [
    "# DATA DESCRIPTION"
   ]
  },
  {
   "cell_type": "markdown",
   "id": "f99932d8",
   "metadata": {},
   "source": [
    "## RENAME COLUMNS"
   ]
  },
  {
   "cell_type": "code",
   "execution_count": 9,
   "id": "b623513f",
   "metadata": {
    "ExecuteTime": {
     "end_time": "2022-02-18T18:47:14.012260Z",
     "start_time": "2022-02-18T18:47:14.004131Z"
    }
   },
   "outputs": [],
   "source": [
    "df1.columns = df1.columns.str.lower()"
   ]
  },
  {
   "cell_type": "markdown",
   "id": "d5ace60f",
   "metadata": {},
   "source": [
    "## LISTANDO VARIÁVEIS"
   ]
  },
  {
   "cell_type": "code",
   "execution_count": 10,
   "id": "c271a0e6",
   "metadata": {
    "ExecuteTime": {
     "end_time": "2022-02-18T18:47:16.353397Z",
     "start_time": "2022-02-18T18:47:16.341668Z"
    }
   },
   "outputs": [],
   "source": [
    "#FONTE: DICIONÁRIO DE DADOS\n",
    "\n",
    "dados_participante = ['nu_inscricao', 'co_municipio_residencia', 'no_municipio_residencia', 'co_uf_residencia', 'sg_uf_residencia', 'nu_idade', 'tp_sexo', 'tp_estado_civil', 'tp_cor_raca',\n",
    "                      'tp_nacionalidade', 'co_municipio_nascimento', 'no_municipio_nascimento', 'co_uf_nascimento', 'sg_uf_nascimento', 'tp_st_conclusao', 'tp_ano_concluiu', 'tp_escola',\n",
    "                      'tp_ensino', 'in_treineiro']\n",
    "\n",
    "dados_escola = ['co_escola', 'co_municipio_esc', 'no_municipio_esc', 'co_uf_esc', 'sg_uf_esc', 'tp_dependencia_adm_esc', 'tp_localizacao_esc', 'tp_sit_func_esc']\n",
    "\n",
    "dados_atendimento = ['in_baixa_visao', 'in_cegueira', 'in_surdez', 'in_deficiencia_auditiva', 'in_surdo_cegueira', 'in_deficiencia_fisica', 'in_deficiencia_mental', 'in_deficit_atencao',\n",
    "                     'in_dislexia', 'in_discalculia', 'in_autismo', 'in_visao_monocular', 'in_outra_def', 'in_gestante', 'in_lactante', 'in_idoso', 'in_estuda_classe_hospitalar',\n",
    "                     'in_sem_recurso', 'in_braille', 'in_ampliada_24', 'in_ampliada_18', 'in_ledor',  'in_acesso', 'in_transcricao', 'in_libras', 'in_tempo_adicional', 'in_leitura_labial',\n",
    "                     'in_mesa_cadeira_rodas', 'in_mesa_cadeira_separada', 'in_apoio_perna', 'in_guia_interprete', 'in_computador', 'in_cadeira_especial', 'in_cadeira_canhoto', \n",
    "                     'in_cadeira_acolchoada', 'in_prova_deitado', 'in_mobiliario_obeso', 'in_lamina_overlay', 'in_protetor_auricular', 'in_medidor_glicose', 'in_maquina_braile', 'in_soroban',\n",
    "                    'in_marca_passo', 'in_sonda', 'in_medicamentos', 'in_sala_individual', 'in_sala_especial', 'in_sala_acompanhante', 'in_mobiliario_especifico', 'in_material_especifico',\n",
    "                     'in_nome_social']\n",
    "\n",
    "dados_aplicacao_prova = ['co_municipio_prova', 'no_municipio_prova', 'co_uf_prova', 'sg_uf_prova']\n",
    "\n",
    "dados_prova = ['tp_presenca_cn', 'tp_presenca_ch', 'tp_presenca_lc', 'tp_presenca_mt', 'nu_nota_cn', 'nu_nota_ch', 'nu_nota_lc', 'nu_nota_mt', 'tp_lingua', 'tp_status_redacao', 'nu_nota_redacao']\n",
    "\n",
    "dados_socioeconomico = ['q001', 'q002', 'q003', 'q004', 'q005', 'q006', 'q007', 'q008', 'q009', 'q010', 'q011', 'q012', 'q013', 'q014', 'q015', 'q016', 'q017', 'q018', 'q019', 'q020','q021',\n",
    "                        'q022', 'q023', 'q024', 'q025']"
   ]
  },
  {
   "cell_type": "markdown",
   "id": "4227ab30",
   "metadata": {},
   "source": [
    "## SHAPE"
   ]
  },
  {
   "cell_type": "code",
   "execution_count": 11,
   "id": "988c0011",
   "metadata": {
    "ExecuteTime": {
     "end_time": "2022-02-18T18:47:20.005072Z",
     "start_time": "2022-02-18T18:47:20.001851Z"
    }
   },
   "outputs": [
    {
     "data": {
      "text/plain": [
       "(3311925, 118)"
      ]
     },
     "execution_count": 11,
     "metadata": {},
     "output_type": "execute_result"
    }
   ],
   "source": [
    "df1.shape"
   ]
  },
  {
   "cell_type": "markdown",
   "id": "1a72e6e4",
   "metadata": {},
   "source": [
    "## CHECK NA"
   ]
  },
  {
   "cell_type": "code",
   "execution_count": 12,
   "id": "46216a18",
   "metadata": {
    "ExecuteTime": {
     "end_time": "2022-02-18T18:47:24.325544Z",
     "start_time": "2022-02-18T18:47:24.053951Z"
    },
    "cell_style": "split"
   },
   "outputs": [
    {
     "data": {
      "text/plain": [
       "nu_inscricao                     0\n",
       "co_municipio_residencia          0\n",
       "no_municipio_residencia          0\n",
       "co_uf_residencia                 0\n",
       "sg_uf_residencia                 0\n",
       "nu_idade                        34\n",
       "tp_sexo                          0\n",
       "tp_estado_civil                  0\n",
       "tp_cor_raca                      0\n",
       "tp_nacionalidade                 0\n",
       "co_municipio_nascimento      94562\n",
       "no_municipio_nascimento      94562\n",
       "co_uf_nascimento             94562\n",
       "sg_uf_nascimento             94562\n",
       "tp_st_conclusao                  0\n",
       "tp_ano_concluiu                  0\n",
       "tp_escola                        0\n",
       "tp_ensino                  1441571\n",
       "in_treineiro                     0\n",
       "dtype: int64"
      ]
     },
     "execution_count": 12,
     "metadata": {},
     "output_type": "execute_result"
    }
   ],
   "source": [
    "df1[dados_participante].isna().sum()"
   ]
  },
  {
   "cell_type": "code",
   "execution_count": 13,
   "id": "ce779125",
   "metadata": {
    "ExecuteTime": {
     "end_time": "2022-02-18T18:48:19.025440Z",
     "start_time": "2022-02-18T18:48:18.931801Z"
    },
    "cell_style": "split"
   },
   "outputs": [
    {
     "data": {
      "text/plain": [
       "co_escola                 2566547\n",
       "co_municipio_esc          2566547\n",
       "no_municipio_esc          2566547\n",
       "co_uf_esc                 2566547\n",
       "sg_uf_esc                 2566547\n",
       "tp_dependencia_adm_esc    2566547\n",
       "tp_localizacao_esc        2566547\n",
       "tp_sit_func_esc           2566547\n",
       "dtype: int64"
      ]
     },
     "execution_count": 13,
     "metadata": {},
     "output_type": "execute_result"
    }
   ],
   "source": [
    "df1[dados_escola].isna().sum()"
   ]
  },
  {
   "cell_type": "code",
   "execution_count": 14,
   "id": "f3096e8b",
   "metadata": {
    "ExecuteTime": {
     "end_time": "2022-02-18T18:48:19.381792Z",
     "start_time": "2022-02-18T18:48:19.188364Z"
    },
    "cell_style": "center"
   },
   "outputs": [
    {
     "data": {
      "text/plain": [
       "in_baixa_visao                 0\n",
       "in_cegueira                    0\n",
       "in_surdez                      0\n",
       "in_deficiencia_auditiva        0\n",
       "in_surdo_cegueira              0\n",
       "in_deficiencia_fisica          0\n",
       "in_deficiencia_mental          0\n",
       "in_deficit_atencao             0\n",
       "in_dislexia                    0\n",
       "in_discalculia                 0\n",
       "in_autismo                     0\n",
       "in_visao_monocular             0\n",
       "in_outra_def                   0\n",
       "in_gestante                    0\n",
       "in_lactante                    0\n",
       "in_idoso                       0\n",
       "in_estuda_classe_hospitalar    0\n",
       "in_sem_recurso                 0\n",
       "in_braille                     0\n",
       "in_ampliada_24                 0\n",
       "in_ampliada_18                 0\n",
       "in_ledor                       0\n",
       "in_acesso                      0\n",
       "in_transcricao                 0\n",
       "in_libras                      0\n",
       "in_tempo_adicional             0\n",
       "in_leitura_labial              0\n",
       "in_mesa_cadeira_rodas          0\n",
       "in_mesa_cadeira_separada       0\n",
       "in_apoio_perna                 0\n",
       "in_guia_interprete             0\n",
       "in_computador                  0\n",
       "in_cadeira_especial            0\n",
       "in_cadeira_canhoto             0\n",
       "in_cadeira_acolchoada          0\n",
       "in_prova_deitado               0\n",
       "in_mobiliario_obeso            0\n",
       "in_lamina_overlay              0\n",
       "in_protetor_auricular          0\n",
       "in_medidor_glicose             0\n",
       "in_maquina_braile              0\n",
       "in_soroban                     0\n",
       "in_marca_passo                 0\n",
       "in_sonda                       0\n",
       "in_medicamentos                0\n",
       "in_sala_individual             0\n",
       "in_sala_especial               0\n",
       "in_sala_acompanhante           0\n",
       "in_mobiliario_especifico       0\n",
       "in_material_especifico         0\n",
       "in_nome_social                 0\n",
       "dtype: int64"
      ]
     },
     "execution_count": 14,
     "metadata": {},
     "output_type": "execute_result"
    }
   ],
   "source": [
    "df1[dados_atendimento].isna().sum()"
   ]
  },
  {
   "cell_type": "code",
   "execution_count": 15,
   "id": "9671ac27",
   "metadata": {
    "ExecuteTime": {
     "end_time": "2022-02-18T18:48:19.473621Z",
     "start_time": "2022-02-18T18:48:19.444652Z"
    },
    "cell_style": "split"
   },
   "outputs": [
    {
     "data": {
      "text/plain": [
       "co_municipio_prova    0\n",
       "no_municipio_prova    0\n",
       "co_uf_prova           0\n",
       "sg_uf_prova           0\n",
       "dtype: int64"
      ]
     },
     "execution_count": 15,
     "metadata": {},
     "output_type": "execute_result"
    }
   ],
   "source": [
    "df1[dados_aplicacao_prova].isna().sum()"
   ]
  },
  {
   "cell_type": "code",
   "execution_count": 16,
   "id": "d29eff4b",
   "metadata": {
    "ExecuteTime": {
     "end_time": "2022-02-18T18:48:20.431110Z",
     "start_time": "2022-02-18T18:48:20.344492Z"
    },
    "cell_style": "split"
   },
   "outputs": [
    {
     "data": {
      "text/plain": [
       "tp_presenca_cn            0\n",
       "tp_presenca_ch            0\n",
       "tp_presenca_lc            0\n",
       "tp_presenca_mt            0\n",
       "nu_nota_cn           900794\n",
       "nu_nota_ch           762323\n",
       "nu_nota_lc           762323\n",
       "nu_nota_mt           900794\n",
       "tp_lingua                 0\n",
       "tp_status_redacao    762324\n",
       "nu_nota_redacao      762324\n",
       "dtype: int64"
      ]
     },
     "execution_count": 16,
     "metadata": {},
     "output_type": "execute_result"
    }
   ],
   "source": [
    "df1[dados_prova].isna().sum()"
   ]
  },
  {
   "cell_type": "code",
   "execution_count": 17,
   "id": "5c66a1e2",
   "metadata": {
    "ExecuteTime": {
     "end_time": "2022-02-18T18:48:20.779029Z",
     "start_time": "2022-02-18T18:48:20.680204Z"
    }
   },
   "outputs": [
    {
     "data": {
      "text/plain": [
       "q001    0\n",
       "q002    0\n",
       "q003    0\n",
       "q004    0\n",
       "q005    0\n",
       "q006    0\n",
       "q007    0\n",
       "q008    0\n",
       "q009    0\n",
       "q010    0\n",
       "q011    0\n",
       "q012    0\n",
       "q013    0\n",
       "q014    0\n",
       "q015    0\n",
       "q016    0\n",
       "q017    0\n",
       "q018    0\n",
       "q019    0\n",
       "q020    0\n",
       "q021    0\n",
       "q022    0\n",
       "q023    0\n",
       "q024    0\n",
       "q025    0\n",
       "dtype: int64"
      ]
     },
     "execution_count": 17,
     "metadata": {},
     "output_type": "execute_result"
    }
   ],
   "source": [
    "df1[dados_socioeconomico].isna().sum()"
   ]
  },
  {
   "cell_type": "markdown",
   "id": "7595f17f",
   "metadata": {},
   "source": [
    "## FILLOUT NA"
   ]
  },
  {
   "cell_type": "code",
   "execution_count": 18,
   "id": "db507e99",
   "metadata": {
    "ExecuteTime": {
     "end_time": "2022-02-18T18:53:43.688489Z",
     "start_time": "2022-02-18T18:53:43.123700Z"
    }
   },
   "outputs": [],
   "source": [
    "df1 = df1.dropna(subset=['nu_nota_cn', 'nu_nota_ch', 'nu_nota_lc', 'nu_nota_mt', 'nu_nota_redacao'])"
   ]
  },
  {
   "cell_type": "markdown",
   "id": "7d7da66e",
   "metadata": {},
   "source": [
    "## CHECK DTYPES"
   ]
  },
  {
   "cell_type": "code",
   "execution_count": 20,
   "id": "b649e0f3",
   "metadata": {
    "ExecuteTime": {
     "end_time": "2022-02-18T18:54:52.189469Z",
     "start_time": "2022-02-18T18:54:52.176804Z"
    }
   },
   "outputs": [
    {
     "data": {
      "text/plain": [
       "nu_inscricao                   category\n",
       "co_municipio_residencia           int32\n",
       "no_municipio_residencia        category\n",
       "co_uf_residencia                   int8\n",
       "sg_uf_residencia               category\n",
       "nu_idade                        float16\n",
       "tp_sexo                        category\n",
       "tp_estado_civil                    int8\n",
       "tp_cor_raca                        int8\n",
       "tp_nacionalidade                   int8\n",
       "co_municipio_nascimento         float32\n",
       "no_municipio_nascimento        category\n",
       "co_uf_nascimento                float16\n",
       "sg_uf_nascimento               category\n",
       "tp_st_conclusao                    int8\n",
       "tp_ano_concluiu                    int8\n",
       "tp_escola                          int8\n",
       "tp_ensino                       float16\n",
       "in_treineiro                       int8\n",
       "co_escola                       float32\n",
       "co_municipio_esc                float32\n",
       "no_municipio_esc               category\n",
       "co_uf_esc                       float16\n",
       "sg_uf_esc                      category\n",
       "tp_dependencia_adm_esc          float16\n",
       "tp_localizacao_esc              float16\n",
       "tp_sit_func_esc                 float16\n",
       "in_baixa_visao                     int8\n",
       "in_cegueira                        int8\n",
       "in_surdez                          int8\n",
       "in_deficiencia_auditiva            int8\n",
       "in_surdo_cegueira                  int8\n",
       "in_deficiencia_fisica              int8\n",
       "in_deficiencia_mental              int8\n",
       "in_deficit_atencao                 int8\n",
       "in_dislexia                        int8\n",
       "in_discalculia                     int8\n",
       "in_autismo                         int8\n",
       "in_visao_monocular                 int8\n",
       "in_outra_def                       int8\n",
       "in_gestante                        int8\n",
       "in_lactante                        int8\n",
       "in_idoso                           int8\n",
       "in_estuda_classe_hospitalar        int8\n",
       "in_sem_recurso                     int8\n",
       "in_braille                         int8\n",
       "in_ampliada_24                     int8\n",
       "in_ampliada_18                     int8\n",
       "in_ledor                           int8\n",
       "in_acesso                          int8\n",
       "in_transcricao                     int8\n",
       "in_libras                          int8\n",
       "in_tempo_adicional                 int8\n",
       "in_leitura_labial                  int8\n",
       "in_mesa_cadeira_rodas              int8\n",
       "in_mesa_cadeira_separada           int8\n",
       "in_apoio_perna                     int8\n",
       "in_guia_interprete                 int8\n",
       "in_computador                      int8\n",
       "in_cadeira_especial                int8\n",
       "in_cadeira_canhoto                 int8\n",
       "in_cadeira_acolchoada              int8\n",
       "in_prova_deitado                   int8\n",
       "in_mobiliario_obeso                int8\n",
       "in_lamina_overlay                  int8\n",
       "in_protetor_auricular              int8\n",
       "in_medidor_glicose                 int8\n",
       "in_maquina_braile                  int8\n",
       "in_soroban                         int8\n",
       "in_marca_passo                     int8\n",
       "in_sonda                           int8\n",
       "in_medicamentos                    int8\n",
       "in_sala_individual                 int8\n",
       "in_sala_especial                   int8\n",
       "in_sala_acompanhante               int8\n",
       "in_mobiliario_especifico           int8\n",
       "in_material_especifico             int8\n",
       "in_nome_social                     int8\n",
       "co_municipio_prova                int32\n",
       "no_municipio_prova             category\n",
       "co_uf_prova                        int8\n",
       "sg_uf_prova                    category\n",
       "tp_presenca_cn                     int8\n",
       "tp_presenca_ch                     int8\n",
       "tp_presenca_lc                     int8\n",
       "tp_presenca_mt                     int8\n",
       "nu_nota_cn                      float64\n",
       "nu_nota_ch                      float64\n",
       "nu_nota_lc                      float64\n",
       "nu_nota_mt                      float64\n",
       "tp_lingua                          int8\n",
       "tp_status_redacao               float16\n",
       "nu_nota_redacao                 float64\n",
       "q001                           category\n",
       "q002                           category\n",
       "q003                           category\n",
       "q004                           category\n",
       "q005                               int8\n",
       "q006                           category\n",
       "q007                           category\n",
       "q008                           category\n",
       "q009                           category\n",
       "q010                           category\n",
       "q011                           category\n",
       "q012                           category\n",
       "q013                           category\n",
       "q014                           category\n",
       "q015                           category\n",
       "q016                           category\n",
       "q017                           category\n",
       "q018                           category\n",
       "q019                           category\n",
       "q020                           category\n",
       "q021                           category\n",
       "q022                           category\n",
       "q023                           category\n",
       "q024                           category\n",
       "q025                           category\n",
       "dtype: object"
      ]
     },
     "execution_count": 20,
     "metadata": {},
     "output_type": "execute_result"
    }
   ],
   "source": [
    "df1.dtypes"
   ]
  },
  {
   "cell_type": "markdown",
   "id": "4aacdce0",
   "metadata": {},
   "source": [
    "## ESTATÍSTICA DESCRITIVA"
   ]
  },
  {
   "cell_type": "code",
   "execution_count": 21,
   "id": "c3d46e2c",
   "metadata": {
    "ExecuteTime": {
     "end_time": "2022-02-18T18:55:18.281647Z",
     "start_time": "2022-02-18T18:55:16.965918Z"
    }
   },
   "outputs": [],
   "source": [
    "num_attributes = df1[dados_prova]\n",
    "cat_attributes = data.select_dtypes( exclude=['int64', 'float64', 'datetime64[ns]'])"
   ]
  },
  {
   "cell_type": "code",
   "execution_count": 22,
   "id": "fd4df648",
   "metadata": {
    "ExecuteTime": {
     "end_time": "2022-02-18T18:55:22.191206Z",
     "start_time": "2022-02-18T18:55:18.283152Z"
    },
    "scrolled": false
   },
   "outputs": [
    {
     "data": {
      "text/html": [
       "<div>\n",
       "<style scoped>\n",
       "    .dataframe tbody tr th:only-of-type {\n",
       "        vertical-align: middle;\n",
       "    }\n",
       "\n",
       "    .dataframe tbody tr th {\n",
       "        vertical-align: top;\n",
       "    }\n",
       "\n",
       "    .dataframe thead th {\n",
       "        text-align: right;\n",
       "    }\n",
       "</style>\n",
       "<table border=\"1\" class=\"dataframe\">\n",
       "  <thead>\n",
       "    <tr style=\"text-align: right;\">\n",
       "      <th></th>\n",
       "      <th>attributes</th>\n",
       "      <th>min</th>\n",
       "      <th>max</th>\n",
       "      <th>range</th>\n",
       "      <th>mean</th>\n",
       "      <th>median</th>\n",
       "      <th>std</th>\n",
       "      <th>skew</th>\n",
       "      <th>kurtosis</th>\n",
       "    </tr>\n",
       "  </thead>\n",
       "  <tbody>\n",
       "    <tr>\n",
       "      <th>0</th>\n",
       "      <td>tp_presenca_cn</td>\n",
       "      <td>1.00</td>\n",
       "      <td>1.00</td>\n",
       "      <td>0.00</td>\n",
       "      <td>1.00</td>\n",
       "      <td>1.00</td>\n",
       "      <td>0.00</td>\n",
       "      <td>0.00</td>\n",
       "      <td>0.00</td>\n",
       "    </tr>\n",
       "    <tr>\n",
       "      <th>1</th>\n",
       "      <td>tp_presenca_ch</td>\n",
       "      <td>1.00</td>\n",
       "      <td>1.00</td>\n",
       "      <td>0.00</td>\n",
       "      <td>1.00</td>\n",
       "      <td>1.00</td>\n",
       "      <td>0.00</td>\n",
       "      <td>0.00</td>\n",
       "      <td>0.00</td>\n",
       "    </tr>\n",
       "    <tr>\n",
       "      <th>2</th>\n",
       "      <td>tp_presenca_lc</td>\n",
       "      <td>1.00</td>\n",
       "      <td>1.00</td>\n",
       "      <td>0.00</td>\n",
       "      <td>1.00</td>\n",
       "      <td>1.00</td>\n",
       "      <td>0.00</td>\n",
       "      <td>0.00</td>\n",
       "      <td>0.00</td>\n",
       "    </tr>\n",
       "    <tr>\n",
       "      <th>3</th>\n",
       "      <td>tp_presenca_mt</td>\n",
       "      <td>1.00</td>\n",
       "      <td>1.00</td>\n",
       "      <td>0.00</td>\n",
       "      <td>1.00</td>\n",
       "      <td>1.00</td>\n",
       "      <td>0.00</td>\n",
       "      <td>0.00</td>\n",
       "      <td>0.00</td>\n",
       "    </tr>\n",
       "    <tr>\n",
       "      <th>4</th>\n",
       "      <td>nu_nota_cn</td>\n",
       "      <td>0.00</td>\n",
       "      <td>860.90</td>\n",
       "      <td>860.90</td>\n",
       "      <td>477.87</td>\n",
       "      <td>470.30</td>\n",
       "      <td>76.04</td>\n",
       "      <td>0.36</td>\n",
       "      <td>-0.25</td>\n",
       "    </tr>\n",
       "    <tr>\n",
       "      <th>5</th>\n",
       "      <td>nu_nota_ch</td>\n",
       "      <td>0.00</td>\n",
       "      <td>835.10</td>\n",
       "      <td>835.10</td>\n",
       "      <td>509.87</td>\n",
       "      <td>513.30</td>\n",
       "      <td>81.02</td>\n",
       "      <td>-0.19</td>\n",
       "      <td>0.41</td>\n",
       "    </tr>\n",
       "    <tr>\n",
       "      <th>6</th>\n",
       "      <td>nu_nota_lc</td>\n",
       "      <td>0.00</td>\n",
       "      <td>801.70</td>\n",
       "      <td>801.70</td>\n",
       "      <td>522.39</td>\n",
       "      <td>527.80</td>\n",
       "      <td>62.76</td>\n",
       "      <td>-0.60</td>\n",
       "      <td>1.41</td>\n",
       "    </tr>\n",
       "    <tr>\n",
       "      <th>7</th>\n",
       "      <td>nu_nota_mt</td>\n",
       "      <td>0.00</td>\n",
       "      <td>985.50</td>\n",
       "      <td>985.50</td>\n",
       "      <td>523.16</td>\n",
       "      <td>501.10</td>\n",
       "      <td>109.04</td>\n",
       "      <td>0.69</td>\n",
       "      <td>-0.06</td>\n",
       "    </tr>\n",
       "    <tr>\n",
       "      <th>8</th>\n",
       "      <td>tp_lingua</td>\n",
       "      <td>0.00</td>\n",
       "      <td>1.00</td>\n",
       "      <td>1.00</td>\n",
       "      <td>0.50</td>\n",
       "      <td>1.00</td>\n",
       "      <td>0.50</td>\n",
       "      <td>-0.02</td>\n",
       "      <td>-2.00</td>\n",
       "    </tr>\n",
       "    <tr>\n",
       "      <th>9</th>\n",
       "      <td>tp_status_redacao</td>\n",
       "      <td>1.00</td>\n",
       "      <td>9.00</td>\n",
       "      <td>8.00</td>\n",
       "      <td>NaN</td>\n",
       "      <td>1.00</td>\n",
       "      <td>0.00</td>\n",
       "      <td>NaN</td>\n",
       "      <td>NaN</td>\n",
       "    </tr>\n",
       "    <tr>\n",
       "      <th>10</th>\n",
       "      <td>nu_nota_redacao</td>\n",
       "      <td>0.00</td>\n",
       "      <td>1000.00</td>\n",
       "      <td>1000.00</td>\n",
       "      <td>579.71</td>\n",
       "      <td>580.00</td>\n",
       "      <td>182.46</td>\n",
       "      <td>-0.63</td>\n",
       "      <td>1.47</td>\n",
       "    </tr>\n",
       "  </tbody>\n",
       "</table>\n",
       "</div>"
      ],
      "text/plain": [
       "           attributes  min     max   range   mean  median    std  skew  kurtosis\n",
       "0      tp_presenca_cn 1.00    1.00    0.00   1.00    1.00   0.00  0.00      0.00\n",
       "1      tp_presenca_ch 1.00    1.00    0.00   1.00    1.00   0.00  0.00      0.00\n",
       "2      tp_presenca_lc 1.00    1.00    0.00   1.00    1.00   0.00  0.00      0.00\n",
       "3      tp_presenca_mt 1.00    1.00    0.00   1.00    1.00   0.00  0.00      0.00\n",
       "4          nu_nota_cn 0.00  860.90  860.90 477.87  470.30  76.04  0.36     -0.25\n",
       "5          nu_nota_ch 0.00  835.10  835.10 509.87  513.30  81.02 -0.19      0.41\n",
       "6          nu_nota_lc 0.00  801.70  801.70 522.39  527.80  62.76 -0.60      1.41\n",
       "7          nu_nota_mt 0.00  985.50  985.50 523.16  501.10 109.04  0.69     -0.06\n",
       "8           tp_lingua 0.00    1.00    1.00   0.50    1.00   0.50 -0.02     -2.00\n",
       "9   tp_status_redacao 1.00    9.00    8.00    NaN    1.00   0.00   NaN       NaN\n",
       "10    nu_nota_redacao 0.00 1000.00 1000.00 579.71  580.00 182.46 -0.63      1.47"
      ]
     },
     "execution_count": 22,
     "metadata": {},
     "output_type": "execute_result"
    }
   ],
   "source": [
    "#Central Tendecy - média e mediana\n",
    "ct1 = pd.DataFrame( num_attributes.apply( np.mean ) ).T\n",
    "ct2 = pd.DataFrame( num_attributes.apply( np.median ) ).T\n",
    "\n",
    "#Dispersion - desvio, min, max, range, skew, kurtosis\n",
    "d1 = pd.DataFrame( num_attributes.apply( np.std ) ).T\n",
    "d2 = pd.DataFrame( num_attributes.apply( min ) ).T\n",
    "d3 = pd.DataFrame( num_attributes.apply( max ) ).T\n",
    "d4 = pd.DataFrame( num_attributes.apply( lambda x: x.max() - x.min() ) ).T\n",
    "d5 = pd.DataFrame( num_attributes.apply( lambda x: x.skew() ) ).T\n",
    "d6 = pd.DataFrame( num_attributes.apply( lambda x: x.kurtosis() ) ).T\n",
    "\n",
    "#concat\n",
    "m = pd.concat( [d2, d3, d4, ct1, ct2, d1, d5, d6]).T.reset_index()\n",
    "m.columns = ['attributes', 'min','max','range','mean','median','std','skew','kurtosis']\n",
    "m"
   ]
  },
  {
   "cell_type": "markdown",
   "id": "8c00e04a",
   "metadata": {},
   "source": [
    "# EDA - EXPLORY DATA ANALYSIS"
   ]
  },
  {
   "cell_type": "code",
   "execution_count": 23,
   "id": "d3513b37",
   "metadata": {
    "ExecuteTime": {
     "end_time": "2022-02-18T19:06:04.204490Z",
     "start_time": "2022-02-18T19:06:04.091923Z"
    }
   },
   "outputs": [],
   "source": [
    "df2 = df1.copy()"
   ]
  },
  {
   "cell_type": "code",
   "execution_count": null,
   "id": "1bb7248d",
   "metadata": {},
   "outputs": [],
   "source": []
  }
 ],
 "metadata": {
  "hide_input": false,
  "kernelspec": {
   "display_name": "Python 3 (ipykernel)",
   "language": "python",
   "name": "python3"
  },
  "language_info": {
   "codemirror_mode": {
    "name": "ipython",
    "version": 3
   },
   "file_extension": ".py",
   "mimetype": "text/x-python",
   "name": "python",
   "nbconvert_exporter": "python",
   "pygments_lexer": "ipython3",
   "version": "3.8.10"
  },
  "toc": {
   "base_numbering": 1,
   "nav_menu": {},
   "number_sections": true,
   "sideBar": true,
   "skip_h1_title": false,
   "title_cell": "Table of Contents",
   "title_sidebar": "Contents",
   "toc_cell": false,
   "toc_position": {},
   "toc_section_display": true,
   "toc_window_display": false
  }
 },
 "nbformat": 4,
 "nbformat_minor": 5
}
