{
  "nbformat": 4,
  "nbformat_minor": 0,
  "metadata": {
    "colab": {
      "name": "TCC-v1.ipynb",
      "provenance": [],
      "toc_visible": true,
      "authorship_tag": "ABX9TyN7C3YPaV3EBihyIYVLY7FU",
      "include_colab_link": true
    },
    "kernelspec": {
      "name": "python3",
      "display_name": "Python 3"
    },
    "language_info": {
      "name": "python"
    }
  },
  "cells": [
    {
      "cell_type": "markdown",
      "metadata": {
        "id": "view-in-github",
        "colab_type": "text"
      },
      "source": [
        "<a href=\"https://colab.research.google.com/github/alexhenriquepineda/Previsao-Notas-ENEM/blob/main/TCC_v1.ipynb\" target=\"_parent\"><img src=\"https://colab.research.google.com/assets/colab-badge.svg\" alt=\"Open In Colab\"/></a>"
      ]
    },
    {
      "cell_type": "code",
      "execution_count": null,
      "metadata": {
        "colab": {
          "base_uri": "https://localhost:8080/"
        },
        "id": "i4MR0UBMCg-A",
        "outputId": "c1f2616f-c734-4175-ce13-b95e47499014"
      },
      "outputs": [
        {
          "output_type": "stream",
          "name": "stdout",
          "text": [
            "Mounted at /content/drive\n"
          ]
        }
      ],
      "source": [
        "from google.colab import drive\n",
        "drive.mount('/content/drive')"
      ]
    },
    {
      "cell_type": "code",
      "source": [
        "import zipfile"
      ],
      "metadata": {
        "id": "Oignx4n-CohK"
      },
      "execution_count": null,
      "outputs": []
    },
    {
      "cell_type": "code",
      "source": [
        "zipfile.ZipFile('/content/drive/MyDrive/TCC/datasets/enem.zip', 'r').extractall('/content/drive/MyDrive/TCC/datasets')"
      ],
      "metadata": {
        "id": "IsaMvWhcCqMK"
      },
      "execution_count": null,
      "outputs": []
    },
    {
      "cell_type": "markdown",
      "source": [
        "**0.0 IMPORTS**"
      ],
      "metadata": {
        "id": "zW8NAGbNJNFB"
      }
    },
    {
      "cell_type": "code",
      "source": [
        "import datetime as dt\n",
        "import numpy as np\n",
        "import pandas as pd\n",
        "import seaborn as sns\n",
        "\n",
        "from tqdm import tqdm\n",
        "from matplotlib import pyplot as plt\n",
        "\n",
        "from google.colab import drive\n",
        "drive.mount('/content/drive')"
      ],
      "metadata": {
        "id": "Sj0eGDOHC5XM",
        "colab": {
          "base_uri": "https://localhost:8080/"
        },
        "outputId": "c16b431a-78dc-47f1-e10e-3750c2c528c3"
      },
      "execution_count": 1,
      "outputs": [
        {
          "output_type": "stream",
          "name": "stdout",
          "text": [
            "Drive already mounted at /content/drive; to attempt to forcibly remount, call drive.mount(\"/content/drive\", force_remount=True).\n"
          ]
        }
      ]
    },
    {
      "cell_type": "markdown",
      "source": [
        "**0.1 HELPER FUNCTION**"
      ],
      "metadata": {
        "id": "JG5XRrdqNDfU"
      }
    },
    {
      "cell_type": "code",
      "source": [
        "from IPython.core.display  import HTML\n",
        "def jupyter_settings():\n",
        "    %matplotlib inline\n",
        "    %pylab inline\n",
        "    plt.style.use( 'bmh' )\n",
        "    plt.rcParams['figure.figsize'] = [20, 10]\n",
        "    plt.rcParams['font.size'] = 24\n",
        "    display( HTML( '<style>.container { width:100% !important; }</style>') )\n",
        "    pd.options.display.max_columns = None\n",
        "    pd.options.display.max_rows = None\n",
        "    pd.set_option( 'display.expand_frame_repr', False )\n",
        "    sns.set()\n",
        "    \n",
        "jupyter_settings()"
      ],
      "metadata": {
        "colab": {
          "base_uri": "https://localhost:8080/",
          "height": 34
        },
        "id": "B_n0MZAG8C40",
        "outputId": "33a29ccc-3c2f-4fee-816a-769ce4bd3ebd"
      },
      "execution_count": 60,
      "outputs": [
        {
          "output_type": "stream",
          "name": "stdout",
          "text": [
            "Populating the interactive namespace from numpy and matplotlib\n"
          ]
        },
        {
          "output_type": "display_data",
          "data": {
            "text/plain": [
              "<IPython.core.display.HTML object>"
            ],
            "text/html": [
              "<style>.container { width:100% !important; }</style>"
            ]
          },
          "metadata": {}
        }
      ]
    },
    {
      "cell_type": "code",
      "source": [
        "def reduce_mem_usage(df):\n",
        "    \"\"\"\n",
        "    iterate through all the columns of a dataframe and modify the data type to reduce memory usage.\n",
        "    fonte: https://www.kaggle.com/valleyzw/ubiquant-lgbm-baseline  \n",
        "    \"\"\"\n",
        "    start_mem = df.memory_usage().sum() / 1024 ** 2\n",
        "    print('Memory usage of dataframe is {:.2f} MB'.format(start_mem))\n",
        "    \n",
        "    for col in tqdm([x for x in df.columns if 'NU_NOTA_' not in x]):\n",
        "        col_type = df[col].dtype\n",
        "        \n",
        "        if col_type != object:\n",
        "            c_min = df[col].min()\n",
        "            c_max = df[col].max()\n",
        "            if str(col_type)[:3] == 'int':\n",
        "                if c_min > np.iinfo(np.int8).min and c_max < np.iinfo(np.int8).max:\n",
        "                    df[col] = df[col].astype(np.int8)\n",
        "                elif c_min > np.iinfo(np.int16).min and c_max < np.iinfo(np.int16).max:\n",
        "                    df[col] = df[col].astype(np.int16)\n",
        "                elif c_min > np.iinfo(np.int32).min and c_max < np.iinfo(np.int32).max:\n",
        "                    df[col] = df[col].astype(np.int32)\n",
        "                elif c_min > np.iinfo(np.int64).min and c_max < np.iinfo(np.int64).max:\n",
        "                    df[col] = df[col].astype(np.int64)  \n",
        "            else:\n",
        "                if c_min > np.finfo(np.float16).min and c_max < np.finfo(np.float16).max:\n",
        "                    df[col] = df[col].astype(np.float16)\n",
        "                elif c_min > np.finfo(np.float32).min and c_max < np.finfo(np.float32).max:\n",
        "                    df[col] = df[col].astype(np.float32)\n",
        "                else:\n",
        "                    df[col] = df[col].astype(np.float64)\n",
        "        else:\n",
        "            df[col] = df[col].astype('category')\n",
        "\n",
        "    end_mem = df.memory_usage().sum() / 1024 ** 2\n",
        "    print('Memory usage after optimization is: {:.2f} MB'.format(end_mem))\n",
        "    print('Decreased by {:.1f}%'.format(100 * (start_mem - end_mem) / start_mem))\n",
        "    \n",
        "    return df"
      ],
      "metadata": {
        "id": "DMXJv_ZJM7D9"
      },
      "execution_count": 2,
      "outputs": []
    },
    {
      "cell_type": "markdown",
      "source": [
        "**1.0 LOADING DATA**"
      ],
      "metadata": {
        "id": "5MNRYfPEJj_2"
      }
    },
    {
      "cell_type": "code",
      "source": [
        "data_raw = pd.read_csv('/content/drive/MyDrive/TCC/datasets/train.csv')"
      ],
      "metadata": {
        "id": "HVVKE16iDIjQ"
      },
      "execution_count": 8,
      "outputs": []
    },
    {
      "cell_type": "code",
      "source": [
        "data = reduce_mem_usage(data_raw)"
      ],
      "metadata": {
        "colab": {
          "base_uri": "https://localhost:8080/"
        },
        "id": "foFbkxiHDRU4",
        "outputId": "ae57d66a-b8d0-4e21-e99c-0cd8f330b2ce"
      },
      "execution_count": 9,
      "outputs": [
        {
          "output_type": "stream",
          "name": "stdout",
          "text": [
            "Memory usage of dataframe is 2981.62 MB\n"
          ]
        },
        {
          "output_type": "stream",
          "name": "stderr",
          "text": [
            "100%|██████████| 113/113 [00:58<00:00,  1.93it/s]"
          ]
        },
        {
          "output_type": "stream",
          "name": "stdout",
          "text": [
            "Memory usage after optimization is: 732.86 MB\n",
            "Decreased by 75.4%\n"
          ]
        },
        {
          "output_type": "stream",
          "name": "stderr",
          "text": [
            "\n"
          ]
        }
      ]
    },
    {
      "cell_type": "markdown",
      "source": [
        "**2.0 DATA DESCRIPTION**"
      ],
      "metadata": {
        "id": "kqe52rn9J8hE"
      }
    },
    {
      "cell_type": "code",
      "source": [
        "df_train = data.copy()"
      ],
      "metadata": {
        "id": "qFRDUQ8rv1VZ"
      },
      "execution_count": 10,
      "outputs": []
    },
    {
      "cell_type": "code",
      "source": [
        "colunas_dados_participante = ['NU_INSCRICAO','CO_MUNICIPIO_RESIDENCIA','NO_MUNICIPIO_RESIDENCIA','CO_UF_RESIDENCIA','SG_UF_RESIDENCIA',\n",
        "                              'NU_IDADE','TP_SEXO','TP_ESTADO_CIVIL','TP_COR_RACA','TP_NACIONALIDADE','CO_MUNICIPIO_NASCIMENTO',\n",
        "                              'NO_MUNICIPIO_NASCIMENTO','CO_UF_NASCIMENTO','SG_UF_NASCIMENTO','TP_ST_CONCLUSAO','TP_ANO_CONCLUIU',\n",
        "                              'TP_ESCOLA','TP_ENSINO','IN_TREINEIRO']\n",
        "\n",
        "#Features com o código da região do estado\n",
        "df_train['CO_REGIAO_RESIDENCIA'] = df_train['CO_MUNICIPIO_RESIDENCIA'].astype(str).str[:3]\n",
        "\n",
        "#Age Groups\n",
        "# Criar grupos de partipantes conforme a faixa de idade\n",
        "group = (0, 15, 18, 23, 36, 60, 120)\n",
        "cats = ['ADOLESCENTE','ADOLESCENTE_2', 'JOVEM','JOVEM_2', 'ADULTO', 'IDOSO']\n",
        "#df_train[\"NO_IDADE_GROUP\"] = pd.cut(df_train.NU_IDADE, group, labels=cats)\n",
        "\n",
        "colunas_dados_participante = list(set(colunas_dados_participante) - (set(colunas_dados_participante) - set(df_train.columns) ) )\n",
        "\n",
        "# ==============================================================================\n",
        "\n",
        "colunas_dados_escola = ['CO_ESCOLA', 'CO_MUNICIPIO_ESC','NO_MUNICIPIO_ESC','CO_UF_ESC','SG_UF_ESC','TP_DEPENDENCIA_ADM_ESC',\n",
        "                        'TP_LOCALIZACAO_ESC','TP_SIT_FUNC_ESC']\n",
        "\n",
        "colunas_dados_escola = list(set(colunas_dados_escola) - (set(colunas_dados_escola) - set(df_train.columns) ) )\n",
        "\n",
        "# ==============================================================================\n",
        "\n",
        "colunas_atend_especial = ['IN_BAIXA_VISAO','IN_CEGUEIRA','IN_SURDEZ','IN_DEFICIENCIA_AUDITIVA','IN_SURDO_CEGUEIRA',\n",
        "                          'IN_DEFICIENCIA_FISICA','IN_DEFICIENCIA_MENTAL','IN_DEFICIT_ATENCAO','IN_DISLEXIA',\n",
        "                          'IN_DISCALCULIA','IN_AUTISMO','IN_VISAO_MONOCULAR','IN_OUTRA_DEF']\n",
        "\n",
        "colunas_atend_especial = list(set(colunas_atend_especial) - (set(colunas_atend_especial) - set(df_train.columns) ) )\n",
        "\n",
        "#df_train[\"IN_ATEND_ESPECIAL\"] = df_train[colunas_atend_especial].max(axis=1)\n",
        "\n",
        "# ==============================================================================\n",
        "\n",
        "colunas_atend_especifico = ['IN_GESTANTE','IN_LACTANTE','IN_IDOSO','IN_ESTUDA_CLASSE_HOSPITALAR']\n",
        "colunas_atend_especifico = list(set(colunas_atend_especifico) - (set(colunas_atend_especifico) - set(df_train.columns) ) )\n",
        "\n",
        "#df_train[\"IN_ATEND_ESPECIFICO\"] = df_train[colunas_atend_especifico].max(axis=1)\n",
        "\n",
        "# ==============================================================================\n",
        "\n",
        "colunas_recurso_especial = ['IN_SEM_RECURSO','IN_BRAILLE','IN_AMPLIADA_24','IN_AMPLIADA_18','IN_LEDOR','IN_ACESSO',\n",
        "                            'IN_TRANSCRICAO','IN_LIBRAS','IN_TEMPO_ADICIONAL','IN_LEITURA_LABIAL','IN_MESA_CADEIRA_RODAS',\n",
        "                            'IN_MESA_CADEIRA_SEPARADA','IN_APOIO_PERNA','IN_GUIA_INTERPRETE','IN_COMPUTADOR','IN_CADEIRA_ESPECIAL',\n",
        "                            'IN_CADEIRA_CANHOTO','IN_CADEIRA_ACOLCHOADA','IN_PROVA_DEITADO','IN_MOBILIARIO_OBESO','IN_LAMINA_OVERLAY',\n",
        "                            'IN_PROTETOR_AURICULAR','IN_MEDIDOR_GLICOSE','IN_MAQUINA_BRAILE','IN_SOROBAN','IN_MARCA_PASSO','IN_SONDA',\n",
        "                            'IN_MEDICAMENTOS','IN_SALA_INDIVIDUAL','IN_SALA_ESPECIAL','IN_SALA_ACOMPANHANTE','IN_MOBILIARIO_ESPECIFICO',\n",
        "                            'IN_MATERIAL_ESPECIFICO','IN_NOME_SOCIAL']\n",
        "\n",
        "colunas_recurso_especial = list(set(colunas_recurso_especial) - (set(colunas_recurso_especial) - set(df_train.columns) ) )\n",
        "\n",
        "#df_train[\"IN_RECURSO_ESPECIAL\"] = df_train[colunas_recurso_especial].max(axis=1)\n",
        "#df_train[\"IN_RECURSO_ESPECIAL\"] = df_train[\"IN_SEM_RECURSO\"]\n",
        "\n",
        "# ==============================================================================\n",
        "\n",
        "colunas_local_prova = ['CO_MUNICIPIO_PROVA', 'NO_MUNICIPIO_PROVA','CO_UF_PROVA','SG_UF_PROVA']\n",
        "\n",
        "colunas_local_prova = list(set(colunas_local_prova) - (set(colunas_local_prova) - set(df_train.columns) ) )\n",
        "\n",
        "# ==============================================================================\n",
        "\n",
        "colunas_prova_objetiva = ['TP_PRESENCA_CN', 'TP_PRESENCA_CH', 'TP_PRESENCA_LC', 'TP_PRESENCA_MT',\n",
        "                          'NU_NOTA_CN','NU_NOTA_CH','NU_NOTA_LC','NU_NOTA_MT','TP_LINGUA']\n",
        "\n",
        "colunas_prova_objetiva = list(set(colunas_prova_objetiva) - (set(colunas_prova_objetiva) - set(df_train.columns) ) )\n",
        "\n",
        "# ==============================================================================\n",
        "\n",
        "colunas_prova_redacao = ['TP_STATUS_REDACAO','NU_NOTA_REDACAO']\n",
        "\n",
        "colunas_prova_redacao = list(set(colunas_prova_redacao) - (set(colunas_prova_redacao) - set(df_train.columns) ) )\n",
        "\n",
        "# ==============================================================================\n",
        "\n",
        "colunas_socio_economico = ['Q001','Q002','Q003','Q004','Q005','Q006','Q007','Q008','Q009','Q010','Q011','Q012','Q013',\n",
        "                           'Q014','Q015','Q016','Q017','Q018','Q019','Q020','Q021','Q022','Q023','Q024','Q025'\n",
        "]\n",
        "\n",
        "colunas_socio_economico = list(set(colunas_socio_economico) - (set(colunas_socio_economico) - set(df_train.columns) ) )"
      ],
      "metadata": {
        "id": "1IsUkcHpvUL7"
      },
      "execution_count": 11,
      "outputs": []
    },
    {
      "cell_type": "markdown",
      "source": [
        "**2.1 TAMANHO DA BASE**"
      ],
      "metadata": {
        "id": "_bvg8ax9L6zy"
      }
    },
    {
      "cell_type": "code",
      "source": [
        "df_train.shape"
      ],
      "metadata": {
        "colab": {
          "base_uri": "https://localhost:8080/"
        },
        "id": "W2izBeKIL4-Q",
        "outputId": "87ca0bb9-586d-4d71-b924-3896d2a4511c"
      },
      "execution_count": 12,
      "outputs": [
        {
          "output_type": "execute_result",
          "data": {
            "text/plain": [
              "(3311925, 119)"
            ]
          },
          "metadata": {},
          "execution_count": 12
        }
      ]
    },
    {
      "cell_type": "markdown",
      "source": [
        "**2.2 CHECK NA**"
      ],
      "metadata": {
        "id": "nYfVWf7kMHwz"
      }
    },
    {
      "cell_type": "code",
      "source": [
        "def getMissing(data):\n",
        "    total = data.isnull().sum().sort_values(ascending=False)\n",
        "    percent = (data.isnull().sum() / data.isnull().count() * 100).sort_values(ascending=False)\n",
        "    missing_data = pd.concat([total, percent], axis=1, keys=['Total', 'Percent'])\n",
        "    missing_data.sort_values(by='Total', ascending=False, inplace=True)\n",
        "    print(missing_data[missing_data['Total'] > 0])"
      ],
      "metadata": {
        "id": "9JXC5Vz5toi5"
      },
      "execution_count": 28,
      "outputs": []
    },
    {
      "cell_type": "code",
      "source": [
        "getMissing(df_train)"
      ],
      "metadata": {
        "colab": {
          "base_uri": "https://localhost:8080/"
        },
        "id": "fPtu5A_mtqWu",
        "outputId": "30554d26-5fed-402c-ebb7-e93ea3a53dc6"
      },
      "execution_count": 29,
      "outputs": [
        {
          "output_type": "stream",
          "name": "stdout",
          "text": [
            "                           Total    Percent\n",
            "CO_MUNICIPIO_ESC         2566547  77.494116\n",
            "TP_SIT_FUNC_ESC          2566547  77.494116\n",
            "TP_LOCALIZACAO_ESC       2566547  77.494116\n",
            "TP_DEPENDENCIA_ADM_ESC   2566547  77.494116\n",
            "SG_UF_ESC                2566547  77.494116\n",
            "CO_UF_ESC                2566547  77.494116\n",
            "NO_MUNICIPIO_ESC         2566547  77.494116\n",
            "CO_ESCOLA                2566547  77.494116\n",
            "TP_ENSINO                1441571  43.526680\n",
            "NU_NOTA_MT                900794  27.198502\n",
            "NU_NOTA_CN                900794  27.198502\n",
            "TP_STATUS_REDACAO         762324  23.017550\n",
            "NU_NOTA_REDACAO           762324  23.017550\n",
            "NU_NOTA_LC                762323  23.017520\n",
            "NU_NOTA_CH                762323  23.017520\n",
            "CO_UF_NASCIMENTO           94562   2.855198\n",
            "CO_MUNICIPIO_NASCIMENTO    94562   2.855198\n",
            "SG_UF_NASCIMENTO           94562   2.855198\n",
            "NO_MUNICIPIO_NASCIMENTO    94562   2.855198\n",
            "NU_IDADE                      34   0.001027\n"
          ]
        }
      ]
    },
    {
      "cell_type": "code",
      "source": [
        "df_train[colunas_prova_objetiva].isna().sum()"
      ],
      "metadata": {
        "colab": {
          "base_uri": "https://localhost:8080/"
        },
        "id": "mwa3e2P5yIbv",
        "outputId": "d965f5b6-1304-4810-a317-fc06570aec04"
      },
      "execution_count": 30,
      "outputs": [
        {
          "output_type": "execute_result",
          "data": {
            "text/plain": [
              "TP_PRESENCA_CH         0\n",
              "TP_LINGUA              0\n",
              "TP_PRESENCA_LC         0\n",
              "NU_NOTA_CH        762323\n",
              "NU_NOTA_LC        762323\n",
              "TP_PRESENCA_MT         0\n",
              "TP_PRESENCA_CN         0\n",
              "NU_NOTA_MT        900794\n",
              "NU_NOTA_CN        900794\n",
              "dtype: int64"
            ]
          },
          "metadata": {},
          "execution_count": 30
        }
      ]
    },
    {
      "cell_type": "markdown",
      "source": [
        "**3.0 DATA FILTERING**"
      ],
      "metadata": {
        "id": "w4KYbkAtKIIv"
      }
    },
    {
      "cell_type": "code",
      "source": [
        "df1 = df_train.copy()"
      ],
      "metadata": {
        "id": "xdeQedxwKPn3"
      },
      "execution_count": 31,
      "outputs": []
    },
    {
      "cell_type": "markdown",
      "source": [
        "**3.1 EXCLUIR ALUNOS QUE NÃO FIZERAM A PROVA OU FORAM DESCLASSIFICADOS**"
      ],
      "metadata": {
        "id": "aZIweFXqMran"
      }
    },
    {
      "cell_type": "code",
      "source": [
        "df1 = df1.loc[(df1['TP_PRESENCA_LC'] == 1) & \n",
        "                        (df1['TP_PRESENCA_CH'] == 1) & \n",
        "                        (df1['TP_PRESENCA_MT'] == 1) & \n",
        "                        (df1['TP_PRESENCA_CN'] == 1) &\n",
        "                        (df1['TP_STATUS_REDACAO'] == 1) ]"
      ],
      "metadata": {
        "id": "fcPZ82j_KVN3"
      },
      "execution_count": 32,
      "outputs": []
    },
    {
      "cell_type": "code",
      "source": [
        "getMissing(df1)"
      ],
      "metadata": {
        "colab": {
          "base_uri": "https://localhost:8080/"
        },
        "id": "nsxn9wUzxVax",
        "outputId": "025a05b8-2fb8-4d65-fe30-23c6f04e6428"
      },
      "execution_count": 33,
      "outputs": [
        {
          "output_type": "stream",
          "name": "stdout",
          "text": [
            "                           Total    Percent\n",
            "CO_MUNICIPIO_ESC         1738486  74.391778\n",
            "NO_MUNICIPIO_ESC         1738486  74.391778\n",
            "TP_LOCALIZACAO_ESC       1738486  74.391778\n",
            "CO_ESCOLA                1738486  74.391778\n",
            "TP_SIT_FUNC_ESC          1738486  74.391778\n",
            "CO_UF_ESC                1738486  74.391778\n",
            "TP_DEPENDENCIA_ADM_ESC   1738486  74.391778\n",
            "SG_UF_ESC                1738486  74.391778\n",
            "TP_ENSINO                 995451  42.596472\n",
            "NO_MUNICIPIO_NASCIMENTO    66402   2.841417\n",
            "CO_UF_NASCIMENTO           66402   2.841417\n",
            "SG_UF_NASCIMENTO           66402   2.841417\n",
            "CO_MUNICIPIO_NASCIMENTO    66402   2.841417\n",
            "NU_IDADE                      29   0.001241\n"
          ]
        }
      ]
    },
    {
      "cell_type": "code",
      "source": [
        "df1[colunas_prova_objetiva].isna().sum()"
      ],
      "metadata": {
        "colab": {
          "base_uri": "https://localhost:8080/"
        },
        "id": "zDE-KMGExyFq",
        "outputId": "9026a6bd-33b0-4e6c-dc2d-00060fa68468"
      },
      "execution_count": 34,
      "outputs": [
        {
          "output_type": "execute_result",
          "data": {
            "text/plain": [
              "TP_PRESENCA_CH    0\n",
              "TP_LINGUA         0\n",
              "TP_PRESENCA_LC    0\n",
              "NU_NOTA_CH        0\n",
              "NU_NOTA_LC        0\n",
              "TP_PRESENCA_MT    0\n",
              "TP_PRESENCA_CN    0\n",
              "NU_NOTA_MT        0\n",
              "NU_NOTA_CN        0\n",
              "dtype: int64"
            ]
          },
          "metadata": {},
          "execution_count": 34
        }
      ]
    },
    {
      "cell_type": "markdown",
      "source": [
        "**3.2 FILTRANDO ALUNOS PELA IDADE PARA REMOVER ALGUNS OUTLIERS**"
      ],
      "metadata": {
        "id": "fecBRbyvFqEO"
      }
    },
    {
      "cell_type": "code",
      "source": [
        "df1 = df1[(df1['NU_IDADE'] >= 14) & (df1['NU_IDADE'] <= 70)]"
      ],
      "metadata": {
        "id": "ICtZuDUlFpLW"
      },
      "execution_count": 111,
      "outputs": []
    },
    {
      "cell_type": "markdown",
      "source": [
        "**4.0 FEATURE ENGINEERING**"
      ],
      "metadata": {
        "id": "I3qILwILOIoI"
      }
    },
    {
      "cell_type": "code",
      "source": [
        "df2 = df1.copy()"
      ],
      "metadata": {
        "id": "9MjD0fE3466X"
      },
      "execution_count": 112,
      "outputs": []
    },
    {
      "cell_type": "markdown",
      "source": [
        "**4.1 CRIANDO VARIÁVEL MÉDIA DAS NOTAS**"
      ],
      "metadata": {
        "id": "Q1LtJ3424-zy"
      }
    },
    {
      "cell_type": "code",
      "source": [
        "df2['MEDIA_NOTAS'] = (df2['NU_NOTA_CH'] + df2['NU_NOTA_LC'] + df2['NU_NOTA_MT'] + df2['NU_NOTA_CN'] + df2['NU_NOTA_REDACAO']) / 5"
      ],
      "metadata": {
        "id": "0igKh9vV49nI"
      },
      "execution_count": 113,
      "outputs": []
    },
    {
      "cell_type": "markdown",
      "source": [
        "**4.2 CRIANDO VARIÁVEL DE REGIÃO**"
      ],
      "metadata": {
        "id": "busYTz4W_7G4"
      }
    },
    {
      "cell_type": "code",
      "source": [
        "norte = ['RO', 'PA', 'AM', 'AC', 'RR', 'TO', 'AP']\n",
        "sudeste = ['MG', 'SP', 'RJ', 'ES']\n",
        "nordeste = ['PB', 'CE', 'PI', 'MA', 'RN', 'BA', 'AL', 'PE', 'SE'] \n",
        "sul = ['PR', 'RS', 'SC']\n",
        "centrooeste = ['MS', 'DF', 'GO', 'MT']\n",
        "df2['REGIAO'] = df2['SG_UF_RESIDENCIA'].apply(lambda x: 'NORTE' if x in(norte) else 'SUDESTE' if x in(sudeste) else 'NORDESTE' if x in(nordeste) else 'SUL' if x in(sul) else 'CENTRO-OESTE' if x in(centrooeste) else  0)"
      ],
      "metadata": {
        "id": "ySTWVgi-ABX1"
      },
      "execution_count": 114,
      "outputs": []
    },
    {
      "cell_type": "markdown",
      "source": [
        "**5.0 EXPLORE DATA ANALYSIS**"
      ],
      "metadata": {
        "id": "nPCnv2F05j9y"
      }
    },
    {
      "cell_type": "code",
      "source": [
        "df3 = df2.copy()"
      ],
      "metadata": {
        "id": "cVimHlIMOq5f"
      },
      "execution_count": 115,
      "outputs": []
    },
    {
      "cell_type": "markdown",
      "source": [
        "**5.1 ESTATÍSTICA DESCRITIVA**"
      ],
      "metadata": {
        "id": "CeFKWym85mPU"
      }
    },
    {
      "cell_type": "code",
      "source": [
        "num_attributes = df3[colunas_prova_objetiva]\n",
        "cat_attributes = df3.select_dtypes( exclude=['int64', 'float64', 'datetime64[ns]'])"
      ],
      "metadata": {
        "id": "fvv4bxrlLUJ_"
      },
      "execution_count": 116,
      "outputs": []
    },
    {
      "cell_type": "markdown",
      "source": [
        "Skew: mostra a deformação da sua distribuição em relação a normal\n",
        "\n",
        "**Skew positiva:** deformação para a esquerda\n",
        "\n",
        "**Skew negativa:** deformação para a direita\n",
        "\n",
        "Kurtosis: mostra o quão os dados estão concentrados.\n",
        "\n",
        "Quanto maior a kurtosis mais dados concentrados, ou seja o pico da curva será muito grande\n",
        "\n",
        "Quanto menor a kurtosis,mais dispersos estão os dados, ou seja, o pico da curva será menor"
      ],
      "metadata": {
        "id": "qBWdvSCKPRjH"
      }
    },
    {
      "cell_type": "code",
      "source": [
        "#Central Tendecy - média e mediana\n",
        "ct1 = pd.DataFrame( num_attributes.apply( np.mean ) ).T\n",
        "ct2 = pd.DataFrame( num_attributes.apply( np.median ) ).T\n",
        "\n",
        "#Dispersion - desvio, min, max, range, skew, kurtosis\n",
        "d1 = pd.DataFrame( num_attributes.apply( np.std ) ).T\n",
        "d2 = pd.DataFrame( num_attributes.apply( min ) ).T\n",
        "d3 = pd.DataFrame( num_attributes.apply( max ) ).T\n",
        "d4 = pd.DataFrame( num_attributes.apply( lambda x: x.max() - x.min() ) ).T\n",
        "d5 = pd.DataFrame( num_attributes.apply( lambda x: x.skew() ) ).T\n",
        "d6 = pd.DataFrame( num_attributes.apply( lambda x: x.kurtosis() ) ).T\n",
        "\n",
        "#concat\n",
        "m = pd.concat( [d2, d3, d4, ct1, ct2, d1, d5, d6]).T.reset_index()\n",
        "m.columns = ['attributes', 'min','max','range','mean','median','std','skew','kurtosis']\n",
        "m"
      ],
      "metadata": {
        "colab": {
          "base_uri": "https://localhost:8080/",
          "height": 332
        },
        "id": "xayXmBCYOotd",
        "outputId": "f5acba84-cc1e-483d-c23b-8cec33afe9ab"
      },
      "execution_count": 117,
      "outputs": [
        {
          "output_type": "execute_result",
          "data": {
            "text/plain": [
              "       attributes  min    max  range        mean  median         std      skew  kurtosis\n",
              "0  TP_PRESENCA_CH  1.0    1.0    0.0    1.000000     1.0    0.000000  0.000000  0.000000\n",
              "1       TP_LINGUA  0.0    1.0    1.0    0.500354     1.0    0.500000 -0.001415 -2.000000\n",
              "2  TP_PRESENCA_LC  1.0    1.0    0.0    1.000000     1.0    0.000000  0.000000  0.000000\n",
              "3      NU_NOTA_CH  0.0  835.1  835.1  511.973954   515.7   80.321952 -0.174244  0.265252\n",
              "4      NU_NOTA_LC  0.0  801.7  801.7  524.325559   529.4   61.653610 -0.579255  1.302209\n",
              "5  TP_PRESENCA_MT  1.0    1.0    0.0    1.000000     1.0    0.000000  0.000000  0.000000\n",
              "6  TP_PRESENCA_CN  1.0    1.0    0.0    1.000000     1.0    0.000000  0.000000  0.000000\n",
              "7      NU_NOTA_MT  0.0  985.5  985.5  525.267284   503.9  109.257430  0.673072 -0.104045\n",
              "8      NU_NOTA_CN  0.0  860.9  860.9  479.430877   472.4   76.005602  0.348700 -0.289266"
            ],
            "text/html": [
              "\n",
              "  <div id=\"df-b16bbdf8-78ec-4106-a424-498648e4cce1\">\n",
              "    <div class=\"colab-df-container\">\n",
              "      <div>\n",
              "<style scoped>\n",
              "    .dataframe tbody tr th:only-of-type {\n",
              "        vertical-align: middle;\n",
              "    }\n",
              "\n",
              "    .dataframe tbody tr th {\n",
              "        vertical-align: top;\n",
              "    }\n",
              "\n",
              "    .dataframe thead th {\n",
              "        text-align: right;\n",
              "    }\n",
              "</style>\n",
              "<table border=\"1\" class=\"dataframe\">\n",
              "  <thead>\n",
              "    <tr style=\"text-align: right;\">\n",
              "      <th></th>\n",
              "      <th>attributes</th>\n",
              "      <th>min</th>\n",
              "      <th>max</th>\n",
              "      <th>range</th>\n",
              "      <th>mean</th>\n",
              "      <th>median</th>\n",
              "      <th>std</th>\n",
              "      <th>skew</th>\n",
              "      <th>kurtosis</th>\n",
              "    </tr>\n",
              "  </thead>\n",
              "  <tbody>\n",
              "    <tr>\n",
              "      <th>0</th>\n",
              "      <td>TP_PRESENCA_CH</td>\n",
              "      <td>1.0</td>\n",
              "      <td>1.0</td>\n",
              "      <td>0.0</td>\n",
              "      <td>1.000000</td>\n",
              "      <td>1.0</td>\n",
              "      <td>0.000000</td>\n",
              "      <td>0.000000</td>\n",
              "      <td>0.000000</td>\n",
              "    </tr>\n",
              "    <tr>\n",
              "      <th>1</th>\n",
              "      <td>TP_LINGUA</td>\n",
              "      <td>0.0</td>\n",
              "      <td>1.0</td>\n",
              "      <td>1.0</td>\n",
              "      <td>0.500354</td>\n",
              "      <td>1.0</td>\n",
              "      <td>0.500000</td>\n",
              "      <td>-0.001415</td>\n",
              "      <td>-2.000000</td>\n",
              "    </tr>\n",
              "    <tr>\n",
              "      <th>2</th>\n",
              "      <td>TP_PRESENCA_LC</td>\n",
              "      <td>1.0</td>\n",
              "      <td>1.0</td>\n",
              "      <td>0.0</td>\n",
              "      <td>1.000000</td>\n",
              "      <td>1.0</td>\n",
              "      <td>0.000000</td>\n",
              "      <td>0.000000</td>\n",
              "      <td>0.000000</td>\n",
              "    </tr>\n",
              "    <tr>\n",
              "      <th>3</th>\n",
              "      <td>NU_NOTA_CH</td>\n",
              "      <td>0.0</td>\n",
              "      <td>835.1</td>\n",
              "      <td>835.1</td>\n",
              "      <td>511.973954</td>\n",
              "      <td>515.7</td>\n",
              "      <td>80.321952</td>\n",
              "      <td>-0.174244</td>\n",
              "      <td>0.265252</td>\n",
              "    </tr>\n",
              "    <tr>\n",
              "      <th>4</th>\n",
              "      <td>NU_NOTA_LC</td>\n",
              "      <td>0.0</td>\n",
              "      <td>801.7</td>\n",
              "      <td>801.7</td>\n",
              "      <td>524.325559</td>\n",
              "      <td>529.4</td>\n",
              "      <td>61.653610</td>\n",
              "      <td>-0.579255</td>\n",
              "      <td>1.302209</td>\n",
              "    </tr>\n",
              "    <tr>\n",
              "      <th>5</th>\n",
              "      <td>TP_PRESENCA_MT</td>\n",
              "      <td>1.0</td>\n",
              "      <td>1.0</td>\n",
              "      <td>0.0</td>\n",
              "      <td>1.000000</td>\n",
              "      <td>1.0</td>\n",
              "      <td>0.000000</td>\n",
              "      <td>0.000000</td>\n",
              "      <td>0.000000</td>\n",
              "    </tr>\n",
              "    <tr>\n",
              "      <th>6</th>\n",
              "      <td>TP_PRESENCA_CN</td>\n",
              "      <td>1.0</td>\n",
              "      <td>1.0</td>\n",
              "      <td>0.0</td>\n",
              "      <td>1.000000</td>\n",
              "      <td>1.0</td>\n",
              "      <td>0.000000</td>\n",
              "      <td>0.000000</td>\n",
              "      <td>0.000000</td>\n",
              "    </tr>\n",
              "    <tr>\n",
              "      <th>7</th>\n",
              "      <td>NU_NOTA_MT</td>\n",
              "      <td>0.0</td>\n",
              "      <td>985.5</td>\n",
              "      <td>985.5</td>\n",
              "      <td>525.267284</td>\n",
              "      <td>503.9</td>\n",
              "      <td>109.257430</td>\n",
              "      <td>0.673072</td>\n",
              "      <td>-0.104045</td>\n",
              "    </tr>\n",
              "    <tr>\n",
              "      <th>8</th>\n",
              "      <td>NU_NOTA_CN</td>\n",
              "      <td>0.0</td>\n",
              "      <td>860.9</td>\n",
              "      <td>860.9</td>\n",
              "      <td>479.430877</td>\n",
              "      <td>472.4</td>\n",
              "      <td>76.005602</td>\n",
              "      <td>0.348700</td>\n",
              "      <td>-0.289266</td>\n",
              "    </tr>\n",
              "  </tbody>\n",
              "</table>\n",
              "</div>\n",
              "      <button class=\"colab-df-convert\" onclick=\"convertToInteractive('df-b16bbdf8-78ec-4106-a424-498648e4cce1')\"\n",
              "              title=\"Convert this dataframe to an interactive table.\"\n",
              "              style=\"display:none;\">\n",
              "        \n",
              "  <svg xmlns=\"http://www.w3.org/2000/svg\" height=\"24px\"viewBox=\"0 0 24 24\"\n",
              "       width=\"24px\">\n",
              "    <path d=\"M0 0h24v24H0V0z\" fill=\"none\"/>\n",
              "    <path d=\"M18.56 5.44l.94 2.06.94-2.06 2.06-.94-2.06-.94-.94-2.06-.94 2.06-2.06.94zm-11 1L8.5 8.5l.94-2.06 2.06-.94-2.06-.94L8.5 2.5l-.94 2.06-2.06.94zm10 10l.94 2.06.94-2.06 2.06-.94-2.06-.94-.94-2.06-.94 2.06-2.06.94z\"/><path d=\"M17.41 7.96l-1.37-1.37c-.4-.4-.92-.59-1.43-.59-.52 0-1.04.2-1.43.59L10.3 9.45l-7.72 7.72c-.78.78-.78 2.05 0 2.83L4 21.41c.39.39.9.59 1.41.59.51 0 1.02-.2 1.41-.59l7.78-7.78 2.81-2.81c.8-.78.8-2.07 0-2.86zM5.41 20L4 18.59l7.72-7.72 1.47 1.35L5.41 20z\"/>\n",
              "  </svg>\n",
              "      </button>\n",
              "      \n",
              "  <style>\n",
              "    .colab-df-container {\n",
              "      display:flex;\n",
              "      flex-wrap:wrap;\n",
              "      gap: 12px;\n",
              "    }\n",
              "\n",
              "    .colab-df-convert {\n",
              "      background-color: #E8F0FE;\n",
              "      border: none;\n",
              "      border-radius: 50%;\n",
              "      cursor: pointer;\n",
              "      display: none;\n",
              "      fill: #1967D2;\n",
              "      height: 32px;\n",
              "      padding: 0 0 0 0;\n",
              "      width: 32px;\n",
              "    }\n",
              "\n",
              "    .colab-df-convert:hover {\n",
              "      background-color: #E2EBFA;\n",
              "      box-shadow: 0px 1px 2px rgba(60, 64, 67, 0.3), 0px 1px 3px 1px rgba(60, 64, 67, 0.15);\n",
              "      fill: #174EA6;\n",
              "    }\n",
              "\n",
              "    [theme=dark] .colab-df-convert {\n",
              "      background-color: #3B4455;\n",
              "      fill: #D2E3FC;\n",
              "    }\n",
              "\n",
              "    [theme=dark] .colab-df-convert:hover {\n",
              "      background-color: #434B5C;\n",
              "      box-shadow: 0px 1px 3px 1px rgba(0, 0, 0, 0.15);\n",
              "      filter: drop-shadow(0px 1px 2px rgba(0, 0, 0, 0.3));\n",
              "      fill: #FFFFFF;\n",
              "    }\n",
              "  </style>\n",
              "\n",
              "      <script>\n",
              "        const buttonEl =\n",
              "          document.querySelector('#df-b16bbdf8-78ec-4106-a424-498648e4cce1 button.colab-df-convert');\n",
              "        buttonEl.style.display =\n",
              "          google.colab.kernel.accessAllowed ? 'block' : 'none';\n",
              "\n",
              "        async function convertToInteractive(key) {\n",
              "          const element = document.querySelector('#df-b16bbdf8-78ec-4106-a424-498648e4cce1');\n",
              "          const dataTable =\n",
              "            await google.colab.kernel.invokeFunction('convertToInteractive',\n",
              "                                                     [key], {});\n",
              "          if (!dataTable) return;\n",
              "\n",
              "          const docLinkHtml = 'Like what you see? Visit the ' +\n",
              "            '<a target=\"_blank\" href=https://colab.research.google.com/notebooks/data_table.ipynb>data table notebook</a>'\n",
              "            + ' to learn more about interactive tables.';\n",
              "          element.innerHTML = '';\n",
              "          dataTable['output_type'] = 'display_data';\n",
              "          await google.colab.output.renderOutput(dataTable, element);\n",
              "          const docLink = document.createElement('div');\n",
              "          docLink.innerHTML = docLinkHtml;\n",
              "          element.appendChild(docLink);\n",
              "        }\n",
              "      </script>\n",
              "    </div>\n",
              "  </div>\n",
              "  "
            ]
          },
          "metadata": {},
          "execution_count": 117
        }
      ]
    },
    {
      "cell_type": "markdown",
      "source": [
        "**5.2 DADOS DOS PARTICIPANTES**"
      ],
      "metadata": {
        "id": "XY1nZDYL4d8g"
      }
    },
    {
      "cell_type": "markdown",
      "source": [
        "**5.2.1 Estados mais desenvolvidos têm notas maiores que estados menos desenvolvidos**"
      ],
      "metadata": {
        "id": "OX06MaRf4pcl"
      }
    },
    {
      "cell_type": "code",
      "source": [
        "estados_media = df3[['SG_UF_RESIDENCIA', 'MEDIA_NOTAS', 'NU_NOTA_CH', 'NU_NOTA_LC', 'NU_NOTA_MT', 'NU_NOTA_CN']].groupby('SG_UF_RESIDENCIA').mean().sort_values('MEDIA_NOTAS', ascending=False).reset_index()"
      ],
      "metadata": {
        "id": "6kRrrTr62yMG"
      },
      "execution_count": 118,
      "outputs": []
    },
    {
      "cell_type": "code",
      "source": [
        "sns.barplot(x='SG_UF_RESIDENCIA', y='MEDIA_NOTAS', data=estados_media, order=estados_media['SG_UF_RESIDENCIA']);\n",
        "plt.title('MÉDIA DE NOTAS POR ESTADOS', fontsize=16, fontweight='bold');"
      ],
      "metadata": {
        "colab": {
          "base_uri": "https://localhost:8080/",
          "height": 629
        },
        "id": "DoQYqVhn6jKu",
        "outputId": "99d25de4-87b2-402c-eaf8-9eec61da6f61"
      },
      "execution_count": 119,
      "outputs": [
        {
          "output_type": "display_data",
          "data": {
            "text/plain": [
              "<Figure size 1440x720 with 1 Axes>"
            ],
            "image/png": "[encoded data removed]"
          },
          "metadata": {}
        }
      ]
    },
    {
      "cell_type": "markdown",
      "source": [
        "**5.2.2 A REGIÃO SUDESTE TEM AS MAIORES NOTAS**"
      ],
      "metadata": {
        "id": "I-M0BoUICmsp"
      }
    },
    {
      "cell_type": "code",
      "source": [
        "regiao = df3[['REGIAO', 'MEDIA_NOTAS', 'NU_NOTA_CH', 'NU_NOTA_LC', 'NU_NOTA_MT', 'NU_NOTA_CN']].groupby('REGIAO').mean().sort_values('MEDIA_NOTAS', ascending=False).reset_index()\n",
        "sns.barplot(x='REGIAO', y='MEDIA_NOTAS', data=regiao, order=regiao['REGIAO']);\n",
        "plt.title('MÉDIA DE NOTAS POR REGIÃO', fontsize=16, fontweight='bold');"
      ],
      "metadata": {
        "colab": {
          "base_uri": "https://localhost:8080/",
          "height": 629
        },
        "id": "tckO4TNNCrqM",
        "outputId": "b3dff51c-2962-489d-aad8-acb1618724b2"
      },
      "execution_count": 120,
      "outputs": [
        {
          "output_type": "display_data",
          "data": {
            "text/plain": [
              "<Figure size 1440x720 with 1 Axes>"
            ],
            "image/png": "[encoded data removed]"
          },
          "metadata": {}
        }
      ]
    },
    {
      "cell_type": "markdown",
      "source": [
        "**5.2.3 JOVENS DE 17 A 22 ANOS TEM AS MAIORES NOTAS**"
      ],
      "metadata": {
        "id": "40ZVMPlLDDEZ"
      }
    },
    {
      "cell_type": "code",
      "source": [
        "aux = df3[['NU_IDADE', 'MEDIA_NOTAS']].groupby('NU_IDADE').mean().reset_index()\n",
        "bins = list(np.arange(0, 100, 2))\n",
        "aux['IDADE_BINNED'] = pd.cut( aux['NU_IDADE'], bins=bins)\n",
        "aux.sort_values('MEDIA_NOTAS', ascending=False, inplace=True)"
      ],
      "metadata": {
        "id": "jjzEq1ovDNvR"
      },
      "execution_count": 121,
      "outputs": []
    },
    {
      "cell_type": "code",
      "source": [
        "sns.barplot(x='IDADE_BINNED', y='MEDIA_NOTAS', data=aux);\n",
        "plt.xticks(rotation=90);"
      ],
      "metadata": {
        "colab": {
          "base_uri": "https://localhost:8080/",
          "height": 645
        },
        "id": "h3bNXxJIDkUr",
        "outputId": "76e91c14-d93f-4b82-9639-ec53825f0756"
      },
      "execution_count": 122,
      "outputs": [
        {
          "output_type": "display_data",
          "data": {
            "text/plain": [
              "<Figure size 1440x720 with 1 Axes>"
            ],
            "image/png": "[encoded data removed]"
          },
          "metadata": {}
        }
      ]
    },
    {
      "cell_type": "markdown",
      "source": [
        "**5.2.4 MULHERES TEM NOTAS MAIS ALTAS QUE HOMENS**"
      ],
      "metadata": {
        "id": "hf9O1Sr4GIIQ"
      }
    },
    {
      "cell_type": "markdown",
      "source": [
        "**HIPÓTESE FALSA:** em média os homens tem notas mais altas que as mulheres"
      ],
      "metadata": {
        "id": "lz-tXhxqGbDk"
      }
    },
    {
      "cell_type": "code",
      "source": [
        "aux = df3[['TP_SEXO', 'MEDIA_NOTAS']].groupby('TP_SEXO').mean().reset_index()\n",
        "print(aux)\n",
        "ax = sns.barplot(x='TP_SEXO', y='MEDIA_NOTAS', data=aux);"
      ],
      "metadata": {
        "colab": {
          "base_uri": "https://localhost:8080/",
          "height": 663
        },
        "id": "j02ovKsrFKjo",
        "outputId": "6d1e6301-be0e-417b-90fa-2c826c114215"
      },
      "execution_count": 135,
      "outputs": [
        {
          "output_type": "stream",
          "name": "stdout",
          "text": [
            "  TP_SEXO  MEDIA_NOTAS\n",
            "0       F   521.992881\n",
            "1       M   535.779884\n"
          ]
        },
        {
          "output_type": "display_data",
          "data": {
            "text/plain": [
              "<Figure size 1440x720 with 1 Axes>"
            ],
            "image/png": "[encoded data removed]"
          },
          "metadata": {}
        }
      ]
    },
    {
      "cell_type": "markdown",
      "source": [
        "**5.2.5 Devido ao racismo estrutural, os brancos têm maiores notas**"
      ],
      "metadata": {
        "id": "a2RQiPJYI_tg"
      }
    },
    {
      "cell_type": "code",
      "source": [
        "aux = df3[['TP_COR_RACA', 'MEDIA_NOTAS']].groupby('TP_COR_RACA').median().sort_values('MEDIA_NOTAS', ascending=False).reset_index()\n",
        "print(aux)\n",
        "ax = sns.barplot(x='TP_COR_RACA', y='MEDIA_NOTAS', data=aux, order=aux['TP_COR_RACA']);\n",
        "# 0 = NÃO DECLARADO\n",
        "# 1 = BRANCA\n",
        "# 2 = PRETA\n",
        "# 3 = PARDA\n",
        "# 4 = AMARELA\n",
        "# 5 = INDÍGENA"
      ],
      "metadata": {
        "colab": {
          "base_uri": "https://localhost:8080/",
          "height": 733
        },
        "id": "5yYFWRzNJHLS",
        "outputId": "2c547b2e-be01-42f1-dea5-e92281181a46"
      },
      "execution_count": 140,
      "outputs": [
        {
          "output_type": "stream",
          "name": "stdout",
          "text": [
            "   TP_COR_RACA  MEDIA_NOTAS\n",
            "0            1       546.50\n",
            "1            0       525.86\n",
            "2            4       513.84\n",
            "3            3       503.46\n",
            "4            2       500.70\n",
            "5            5       476.42\n"
          ]
        },
        {
          "output_type": "display_data",
          "data": {
            "text/plain": [
              "<Figure size 1440x720 with 1 Axes>"
            ],
            "image/png": "[encoded data removed]"
          },
          "metadata": {}
        }
      ]
    },
    {
      "cell_type": "code",
      "source": [
        "df3['TP_COR_RACA'].value_counts()"
      ],
      "metadata": {
        "colab": {
          "base_uri": "https://localhost:8080/"
        },
        "id": "Tir6y47dJKNE",
        "outputId": "7013621e-a4f8-4dd5-fe54-79b2e480b9e2"
      },
      "execution_count": 141,
      "outputs": [
        {
          "output_type": "execute_result",
          "data": {
            "text/plain": [
              "3    1063586\n",
              "1     875544\n",
              "2     284819\n",
              "4      53643\n",
              "0      45835\n",
              "5      13104\n",
              "Name: TP_COR_RACA, dtype: int64"
            ]
          },
          "metadata": {},
          "execution_count": 141
        }
      ]
    },
    {
      "cell_type": "markdown",
      "source": [
        "**5.2.6 Quanto mais distante a formação do ensino médio, menor a nota**"
      ],
      "metadata": {
        "id": "Z89Mc4XhLDJ6"
      }
    },
    {
      "cell_type": "code",
      "source": [
        "aux = df3[['TP_ANO_CONCLUIU', 'MEDIA_NOTAS']].groupby('TP_ANO_CONCLUIU').mean().sort_values('MEDIA_NOTAS', ascending=False).reset_index()\n",
        "print(aux)\n",
        "sns.barplot(x='TP_ANO_CONCLUIU', y='MEDIA_NOTAS', data=aux, order=aux['TP_ANO_CONCLUIU']);\n"
      ],
      "metadata": {
        "colab": {
          "base_uri": "https://localhost:8080/",
          "height": 871
        },
        "id": "ZTRWJR4YKnnO",
        "outputId": "ccb817ae-8028-49cc-f0ff-71a1e79debb6"
      },
      "execution_count": 148,
      "outputs": [
        {
          "output_type": "stream",
          "name": "stdout",
          "text": [
            "    TP_ANO_CONCLUIU  MEDIA_NOTAS\n",
            "0                 1   531.836450\n",
            "1                 3   530.886655\n",
            "2                 2   530.410445\n",
            "3                 0   527.999493\n",
            "4                 4   527.156973\n",
            "5                 5   525.867035\n",
            "6                 6   524.392814\n",
            "7                 8   524.253793\n",
            "8                 7   523.532945\n",
            "9                11   522.093547\n",
            "10               10   520.792793\n",
            "11                9   520.021771\n",
            "12               12   518.097503\n",
            "13               13   517.705492\n"
          ]
        },
        {
          "output_type": "display_data",
          "data": {
            "text/plain": [
              "<Figure size 1440x720 with 1 Axes>"
            ],
            "image/png": "[encoded data removed]"
          },
          "metadata": {}
        }
      ]
    },
    {
      "cell_type": "markdown",
      "source": [
        "**5.2.6 Alunos de escolas particulares tem notas mais altas**"
      ],
      "metadata": {
        "id": "eh9iWyVuMVg2"
      }
    },
    {
      "cell_type": "code",
      "source": [
        "aux = df3[['TP_ESCOLA', 'MEDIA_NOTAS']].groupby('TP_ESCOLA').mean().sort_values('MEDIA_NOTAS', ascending=False).reset_index()\n",
        "print(aux)\n",
        "sns.barplot(x='TP_ESCOLA', y='MEDIA_NOTAS', data=aux, order=aux['TP_ESCOLA']);\n",
        "#1: Não Respondeu\n",
        "#2:Pública\n",
        "#3:Privada"
      ],
      "metadata": {
        "colab": {
          "base_uri": "https://localhost:8080/",
          "height": 680
        },
        "id": "YOFxP9csMb4j",
        "outputId": "aa20fbed-c48c-4f25-9865-ff144bbefe54"
      },
      "execution_count": 149,
      "outputs": [
        {
          "output_type": "stream",
          "name": "stdout",
          "text": [
            "   TP_ESCOLA  MEDIA_NOTAS\n",
            "0          3   605.318211\n",
            "1          1   527.699538\n",
            "2          2   510.642354\n"
          ]
        },
        {
          "output_type": "display_data",
          "data": {
            "text/plain": [
              "<Figure size 1440x720 with 1 Axes>"
            ],
            "image/png": "[encoded data removed]"
          },
          "metadata": {}
        }
      ]
    },
    {
      "cell_type": "code",
      "source": [
        ""
      ],
      "metadata": {
        "id": "uOVst20AMh1w"
      },
      "execution_count": null,
      "outputs": []
    }
  ]
}