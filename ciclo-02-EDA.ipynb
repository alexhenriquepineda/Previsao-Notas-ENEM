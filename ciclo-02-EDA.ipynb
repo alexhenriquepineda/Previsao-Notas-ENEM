{
  "nbformat": 4,
  "nbformat_minor": 0,
  "metadata": {
    "colab": {
      "name": "TCC.ipynb",
      "provenance": [],
      "authorship_tag": "ABX9TyOsS9XGzLnj5YBYA8SdRnRl",
      "include_colab_link": true
    },
    "kernelspec": {
      "name": "python3",
      "display_name": "Python 3"
    },
    "language_info": {
      "name": "python"
    }
  },
  "cells": [
    {
      "cell_type": "markdown",
      "metadata": {
        "id": "view-in-github",
        "colab_type": "text"
      },
      "source": [
        "<a href=\"https://colab.research.google.com/github/alexhenriquepineda/Previsao-Notas-ENEM/blob/main/ciclo-02-EDA.ipynb\" target=\"_parent\"><img src=\"https://colab.research.google.com/assets/colab-badge.svg\" alt=\"Open In Colab\"/></a>"
      ]
    },
    {
      "cell_type": "code",
      "execution_count": 1,
      "metadata": {
        "colab": {
          "base_uri": "https://localhost:8080/"
        },
        "id": "i4MR0UBMCg-A",
        "outputId": "c1f2616f-c734-4175-ce13-b95e47499014"
      },
      "outputs": [
        {
          "output_type": "stream",
          "name": "stdout",
          "text": [
            "Mounted at /content/drive\n"
          ]
        }
      ],
      "source": [
        "from google.colab import drive\n",
        "drive.mount('/content/drive')"
      ]
    },
    {
      "cell_type": "code",
      "source": [
        "import zipfile"
      ],
      "metadata": {
        "id": "Oignx4n-CohK"
      },
      "execution_count": 2,
      "outputs": []
    },
    {
      "cell_type": "code",
      "source": [
        "zipfile.ZipFile('/content/drive/MyDrive/TCC/datasets/enem.zip', 'r').extractall('/content/drive/MyDrive/TCC/datasets')"
      ],
      "metadata": {
        "id": "IsaMvWhcCqMK"
      },
      "execution_count": 3,
      "outputs": []
    },
    {
      "cell_type": "markdown",
      "source": [
        "**0.0 IMPORTS**"
      ],
      "metadata": {
        "id": "zW8NAGbNJNFB"
      }
    },
    {
      "cell_type": "code",
      "source": [
        "from tqdm import tqdm\n",
        "import datetime as dt\n",
        "import numpy as np\n",
        "import pandas as pd\n",
        "import seaborn as sns\n",
        "\n",
        "from matplotlib import pyplot as plt\n",
        "from IPython.core.display  import HTML"
      ],
      "metadata": {
        "id": "Sj0eGDOHC5XM"
      },
      "execution_count": 3,
      "outputs": []
    },
    {
      "cell_type": "markdown",
      "source": [
        "**0.1 HELPER FUNCTION**"
      ],
      "metadata": {
        "id": "JG5XRrdqNDfU"
      }
    },
    {
      "cell_type": "code",
      "source": [
        "def reduce_mem_usage(df):\n",
        "    \"\"\"\n",
        "    iterate through all the columns of a dataframe and modify the data type to reduce memory usage.\n",
        "    fonte: https://www.kaggle.com/valleyzw/ubiquant-lgbm-baseline  \n",
        "    \"\"\"\n",
        "    start_mem = df.memory_usage().sum() / 1024 ** 2\n",
        "    print('Memory usage of dataframe is {:.2f} MB'.format(start_mem))\n",
        "    \n",
        "    for col in tqdm([x for x in df.columns if 'NU_NOTA_' not in x]):\n",
        "        col_type = df[col].dtype\n",
        "        \n",
        "        if col_type != object:\n",
        "            c_min = df[col].min()\n",
        "            c_max = df[col].max()\n",
        "            if str(col_type)[:3] == 'int':\n",
        "                if c_min > np.iinfo(np.int8).min and c_max < np.iinfo(np.int8).max:\n",
        "                    df[col] = df[col].astype(np.int8)\n",
        "                elif c_min > np.iinfo(np.int16).min and c_max < np.iinfo(np.int16).max:\n",
        "                    df[col] = df[col].astype(np.int16)\n",
        "                elif c_min > np.iinfo(np.int32).min and c_max < np.iinfo(np.int32).max:\n",
        "                    df[col] = df[col].astype(np.int32)\n",
        "                elif c_min > np.iinfo(np.int64).min and c_max < np.iinfo(np.int64).max:\n",
        "                    df[col] = df[col].astype(np.int64)  \n",
        "            else:\n",
        "                if c_min > np.finfo(np.float16).min and c_max < np.finfo(np.float16).max:\n",
        "                    df[col] = df[col].astype(np.float16)\n",
        "                elif c_min > np.finfo(np.float32).min and c_max < np.finfo(np.float32).max:\n",
        "                    df[col] = df[col].astype(np.float32)\n",
        "                else:\n",
        "                    df[col] = df[col].astype(np.float64)\n",
        "        else:\n",
        "            df[col] = df[col].astype('category')\n",
        "\n",
        "    end_mem = df.memory_usage().sum() / 1024 ** 2\n",
        "    print('Memory usage after optimization is: {:.2f} MB'.format(end_mem))\n",
        "    print('Decreased by {:.1f}%'.format(100 * (start_mem - end_mem) / start_mem))\n",
        "    \n",
        "    return df"
      ],
      "metadata": {
        "id": "DMXJv_ZJM7D9"
      },
      "execution_count": 2,
      "outputs": []
    },
    {
      "cell_type": "code",
      "source": [
        "def jupyter_settings():\n",
        "    %matplotlib inline\n",
        "    %pylab inline\n",
        "    plt.style.use( 'bmh' )\n",
        "    plt.rcParams['figure.figsize'] = [16, 8]\n",
        "    plt.rcParams['font.size'] = 24\n",
        "    display( HTML( '<style>.container { width:100% !important; }</style>') )\n",
        "    pd.options.display.max_columns = None\n",
        "    pd.options.display.max_rows = None\n",
        "    pd.set_option( 'display.expand_frame_repr', False )\n",
        "    sns.set()\n",
        "    \n",
        "jupyter_settings()\n",
        "\n",
        "pd.set_option('display.float_format', lambda x: '%.2f' % x)"
      ],
      "metadata": {
        "colab": {
          "base_uri": "https://localhost:8080/",
          "height": 34
        },
        "id": "e4icg0L6NHMJ",
        "outputId": "fb0c1df2-6f35-46b4-f4e4-87c32c862548"
      },
      "execution_count": 4,
      "outputs": [
        {
          "output_type": "stream",
          "name": "stdout",
          "text": [
            "Populating the interactive namespace from numpy and matplotlib\n"
          ]
        },
        {
          "output_type": "display_data",
          "data": {
            "text/plain": [
              "<IPython.core.display.HTML object>"
            ],
            "text/html": [
              "<style>.container { width:100% !important; }</style>"
            ]
          },
          "metadata": {}
        }
      ]
    },
    {
      "cell_type": "markdown",
      "source": [
        "**1.0 LOADING DATA**"
      ],
      "metadata": {
        "id": "5MNRYfPEJj_2"
      }
    },
    {
      "cell_type": "code",
      "source": [
        "data_raw = pd.read_csv('/content/drive/MyDrive/TCC/datasets/train.csv')"
      ],
      "metadata": {
        "id": "HVVKE16iDIjQ"
      },
      "execution_count": 5,
      "outputs": []
    },
    {
      "cell_type": "code",
      "source": [
        "data = reduce_mem_usage(data_raw)"
      ],
      "metadata": {
        "colab": {
          "base_uri": "https://localhost:8080/"
        },
        "id": "foFbkxiHDRU4",
        "outputId": "85768a64-feaf-452f-b690-08e582c4ceaa"
      },
      "execution_count": 6,
      "outputs": [
        {
          "output_type": "stream",
          "name": "stdout",
          "text": [
            "Memory usage of dataframe is 2981.62 MB\n"
          ]
        },
        {
          "output_type": "stream",
          "name": "stderr",
          "text": [
            "100%|██████████| 113/113 [01:09<00:00,  1.63it/s]"
          ]
        },
        {
          "output_type": "stream",
          "name": "stdout",
          "text": [
            "Memory usage after optimization is: 732.86 MB\n",
            "Decreased by 75.4%\n"
          ]
        },
        {
          "output_type": "stream",
          "name": "stderr",
          "text": [
            "\n"
          ]
        }
      ]
    },
    {
      "cell_type": "markdown",
      "source": [
        "**2.0 DATA DESCRIPTION**"
      ],
      "metadata": {
        "id": "kqe52rn9J8hE"
      }
    },
    {
      "cell_type": "code",
      "source": [
        "data.columns = data.columns.str.lower()"
      ],
      "metadata": {
        "id": "o4OOzxiBLxpr"
      },
      "execution_count": 7,
      "outputs": []
    },
    {
      "cell_type": "code",
      "source": [
        "#FONTE: DICIONÁRIO DE DADOS\n",
        "\n",
        "dados_participante = ['nu_inscricao', 'co_municipio_residencia', 'no_municipio_residencia', 'co_uf_residencia', 'sg_uf_residencia', 'nu_idade', 'tp_sexo', 'tp_estado_civil', 'tp_cor_raca',\n",
        "                      'tp_nacionalidade', 'co_municipio_nascimento', 'no_municipio_nascimento', 'co_uf_nascimento', 'sg_uf_nascimento', 'tp_st_conclusao', 'tp_ano_concluiu', 'tp_escola',\n",
        "                      'tp_ensino', 'in_treineiro']\n",
        "\n",
        "dados_escola = ['co_escola', 'co_municipio_esc', 'no_municipio_esc', 'co_uf_esc', 'sg_uf_esc', 'tp_dependencia_adm_esc', 'tp_localizacao_esc', 'tp_sit_func_esc']\n",
        "\n",
        "dados_atendimento = ['in_baixa_visao', 'in_cegueira', 'in_surdez', 'in_deficiencia_auditiva', 'in_surdo_cegueira', 'in_deficiencia_fisica', 'in_deficiencia_mental', 'in_deficit_atencao',\n",
        "                     'in_dislexia', 'in_discalculia', 'in_autismo', 'in_visao_monocular', 'in_outra_def', 'in_gestante', 'in_lactante', 'in_idoso', 'in_estuda_classe_hospitalar',\n",
        "                     'in_sem_recurso', 'in_braille', 'in_ampliada_24', 'in_ampliada_18', 'in_ledor',  'in_acesso', 'in_transcricao', 'in_libras', 'in_tempo_adicional', 'in_leitura_labial',\n",
        "                     'in_mesa_cadeira_rodas', 'in_mesa_cadeira_separada', 'in_apoio_perna', 'in_guia_interprete', 'in_computador', 'in_cadeira_especial', 'in_cadeira_canhoto', \n",
        "                     'in_cadeira_acolchoada', 'in_prova_deitado', 'in_mobiliario_obeso', 'in_lamina_overlay', 'in_protetor_auricular', 'in_medidor_glicose', 'in_maquina_braile', 'in_soroban',\n",
        "                    'in_marca_passo', 'in_sonda', 'in_medicamentos', 'in_sala_individual', 'in_sala_especial', 'in_sala_acompanhante', 'in_mobiliario_especifico', 'in_material_especifico',\n",
        "                     'in_nome_social']\n",
        "\n",
        "dados_aplicacao_prova = ['co_municipio_prova', 'no_municipio_prova', 'co_uf_prova', 'sg_uf_prova']\n",
        "\n",
        "dados_prova = ['tp_presenca_cn', 'tp_presenca_ch', 'tp_presenca_lc', 'tp_presenca_mt', 'nu_nota_cn', 'nu_nota_ch', 'nu_nota_lc', 'nu_nota_mt', 'tp_lingua', 'tp_status_redacao', 'nu_nota_redacao']\n",
        "\n",
        "dados_socioeconomico = ['q001', 'q002', 'q003', 'q004', 'q005', 'q006', 'q007', 'q008', 'q009', 'q010', 'q011', 'q012', 'q013', 'q014', 'q015', 'q016', 'q017', 'q018', 'q019', 'q020','q021',\n",
        "                        'q022', 'q023', 'q024', 'q025']"
      ],
      "metadata": {
        "id": "Wmlmwr2rI6Ym"
      },
      "execution_count": 8,
      "outputs": []
    },
    {
      "cell_type": "markdown",
      "source": [
        "**2.1 TAMANHO DA BASE**"
      ],
      "metadata": {
        "id": "_bvg8ax9L6zy"
      }
    },
    {
      "cell_type": "code",
      "source": [
        "data.shape"
      ],
      "metadata": {
        "colab": {
          "base_uri": "https://localhost:8080/"
        },
        "id": "W2izBeKIL4-Q",
        "outputId": "20895e2b-10da-4d31-bb76-86371a99d12c"
      },
      "execution_count": 9,
      "outputs": [
        {
          "output_type": "execute_result",
          "data": {
            "text/plain": [
              "(3311925, 118)"
            ]
          },
          "metadata": {},
          "execution_count": 9
        }
      ]
    },
    {
      "cell_type": "markdown",
      "source": [
        "**2.2 CHECK NA**"
      ],
      "metadata": {
        "id": "nYfVWf7kMHwz"
      }
    },
    {
      "cell_type": "code",
      "source": [
        "data[dados_participante].isna().sum()"
      ],
      "metadata": {
        "colab": {
          "base_uri": "https://localhost:8080/"
        },
        "id": "4WO-qfZnMDZH",
        "outputId": "0fa69834-50f0-4f09-c579-d04c8d9d859e"
      },
      "execution_count": 10,
      "outputs": [
        {
          "output_type": "execute_result",
          "data": {
            "text/plain": [
              "nu_inscricao                     0\n",
              "co_municipio_residencia          0\n",
              "no_municipio_residencia          0\n",
              "co_uf_residencia                 0\n",
              "sg_uf_residencia                 0\n",
              "nu_idade                        34\n",
              "tp_sexo                          0\n",
              "tp_estado_civil                  0\n",
              "tp_cor_raca                      0\n",
              "tp_nacionalidade                 0\n",
              "co_municipio_nascimento      94562\n",
              "no_municipio_nascimento      94562\n",
              "co_uf_nascimento             94562\n",
              "sg_uf_nascimento             94562\n",
              "tp_st_conclusao                  0\n",
              "tp_ano_concluiu                  0\n",
              "tp_escola                        0\n",
              "tp_ensino                  1441571\n",
              "in_treineiro                     0\n",
              "dtype: int64"
            ]
          },
          "metadata": {},
          "execution_count": 10
        }
      ]
    },
    {
      "cell_type": "code",
      "source": [
        "data[dados_escola].isna().sum()"
      ],
      "metadata": {
        "colab": {
          "base_uri": "https://localhost:8080/"
        },
        "id": "8TB9wSdSMDdT",
        "outputId": "2f2be17c-2313-48b4-b3ae-e73bbdd0195b"
      },
      "execution_count": 11,
      "outputs": [
        {
          "output_type": "execute_result",
          "data": {
            "text/plain": [
              "co_escola                 2566547\n",
              "co_municipio_esc          2566547\n",
              "no_municipio_esc          2566547\n",
              "co_uf_esc                 2566547\n",
              "sg_uf_esc                 2566547\n",
              "tp_dependencia_adm_esc    2566547\n",
              "tp_localizacao_esc        2566547\n",
              "tp_sit_func_esc           2566547\n",
              "dtype: int64"
            ]
          },
          "metadata": {},
          "execution_count": 11
        }
      ]
    },
    {
      "cell_type": "code",
      "source": [
        "data[dados_atendimento].isna().sum()\n"
      ],
      "metadata": {
        "colab": {
          "base_uri": "https://localhost:8080/"
        },
        "id": "nLrBuHT2MUro",
        "outputId": "bfceaa5c-1784-4937-fffa-6686c842c5ad"
      },
      "execution_count": 12,
      "outputs": [
        {
          "output_type": "execute_result",
          "data": {
            "text/plain": [
              "in_baixa_visao                 0\n",
              "in_cegueira                    0\n",
              "in_surdez                      0\n",
              "in_deficiencia_auditiva        0\n",
              "in_surdo_cegueira              0\n",
              "in_deficiencia_fisica          0\n",
              "in_deficiencia_mental          0\n",
              "in_deficit_atencao             0\n",
              "in_dislexia                    0\n",
              "in_discalculia                 0\n",
              "in_autismo                     0\n",
              "in_visao_monocular             0\n",
              "in_outra_def                   0\n",
              "in_gestante                    0\n",
              "in_lactante                    0\n",
              "in_idoso                       0\n",
              "in_estuda_classe_hospitalar    0\n",
              "in_sem_recurso                 0\n",
              "in_braille                     0\n",
              "in_ampliada_24                 0\n",
              "in_ampliada_18                 0\n",
              "in_ledor                       0\n",
              "in_acesso                      0\n",
              "in_transcricao                 0\n",
              "in_libras                      0\n",
              "in_tempo_adicional             0\n",
              "in_leitura_labial              0\n",
              "in_mesa_cadeira_rodas          0\n",
              "in_mesa_cadeira_separada       0\n",
              "in_apoio_perna                 0\n",
              "in_guia_interprete             0\n",
              "in_computador                  0\n",
              "in_cadeira_especial            0\n",
              "in_cadeira_canhoto             0\n",
              "in_cadeira_acolchoada          0\n",
              "in_prova_deitado               0\n",
              "in_mobiliario_obeso            0\n",
              "in_lamina_overlay              0\n",
              "in_protetor_auricular          0\n",
              "in_medidor_glicose             0\n",
              "in_maquina_braile              0\n",
              "in_soroban                     0\n",
              "in_marca_passo                 0\n",
              "in_sonda                       0\n",
              "in_medicamentos                0\n",
              "in_sala_individual             0\n",
              "in_sala_especial               0\n",
              "in_sala_acompanhante           0\n",
              "in_mobiliario_especifico       0\n",
              "in_material_especifico         0\n",
              "in_nome_social                 0\n",
              "dtype: int64"
            ]
          },
          "metadata": {},
          "execution_count": 12
        }
      ]
    },
    {
      "cell_type": "code",
      "source": [
        "data[dados_aplicacao_prova].isna().sum()"
      ],
      "metadata": {
        "colab": {
          "base_uri": "https://localhost:8080/"
        },
        "id": "1zFUKzKxMUwB",
        "outputId": "bafa2595-9f3d-454b-e2ff-01b6e0353cd1"
      },
      "execution_count": 13,
      "outputs": [
        {
          "output_type": "execute_result",
          "data": {
            "text/plain": [
              "co_municipio_prova    0\n",
              "no_municipio_prova    0\n",
              "co_uf_prova           0\n",
              "sg_uf_prova           0\n",
              "dtype: int64"
            ]
          },
          "metadata": {},
          "execution_count": 13
        }
      ]
    },
    {
      "cell_type": "code",
      "source": [
        "data[dados_prova].isna().sum()"
      ],
      "metadata": {
        "colab": {
          "base_uri": "https://localhost:8080/"
        },
        "id": "86Ogzw1lMU2U",
        "outputId": "ea08ecaf-bbda-4b3a-c9fe-ea9b4384a3b0"
      },
      "execution_count": 14,
      "outputs": [
        {
          "output_type": "execute_result",
          "data": {
            "text/plain": [
              "tp_presenca_cn            0\n",
              "tp_presenca_ch            0\n",
              "tp_presenca_lc            0\n",
              "tp_presenca_mt            0\n",
              "nu_nota_cn           900794\n",
              "nu_nota_ch           762323\n",
              "nu_nota_lc           762323\n",
              "nu_nota_mt           900794\n",
              "tp_lingua                 0\n",
              "tp_status_redacao    762324\n",
              "nu_nota_redacao      762324\n",
              "dtype: int64"
            ]
          },
          "metadata": {},
          "execution_count": 14
        }
      ]
    },
    {
      "cell_type": "code",
      "source": [
        "data[dados_socioeconomico].isna().sum()"
      ],
      "metadata": {
        "colab": {
          "base_uri": "https://localhost:8080/"
        },
        "id": "K3uyG6VbMeOP",
        "outputId": "5900f1fd-4908-452a-8638-529a6df3a996"
      },
      "execution_count": 15,
      "outputs": [
        {
          "output_type": "execute_result",
          "data": {
            "text/plain": [
              "q001    0\n",
              "q002    0\n",
              "q003    0\n",
              "q004    0\n",
              "q005    0\n",
              "q006    0\n",
              "q007    0\n",
              "q008    0\n",
              "q009    0\n",
              "q010    0\n",
              "q011    0\n",
              "q012    0\n",
              "q013    0\n",
              "q014    0\n",
              "q015    0\n",
              "q016    0\n",
              "q017    0\n",
              "q018    0\n",
              "q019    0\n",
              "q020    0\n",
              "q021    0\n",
              "q022    0\n",
              "q023    0\n",
              "q024    0\n",
              "q025    0\n",
              "dtype: int64"
            ]
          },
          "metadata": {},
          "execution_count": 15
        }
      ]
    },
    {
      "cell_type": "markdown",
      "source": [
        "**2.3 CHECK DTYPES**"
      ],
      "metadata": {
        "id": "g5E7c7d6ONZu"
      }
    },
    {
      "cell_type": "code",
      "source": [
        "data.dtypes"
      ],
      "metadata": {
        "colab": {
          "base_uri": "https://localhost:8080/"
        },
        "id": "lhuwKqRWOS4y",
        "outputId": "9edbc03e-4c2a-433d-b6ad-30b8119b789f"
      },
      "execution_count": 18,
      "outputs": [
        {
          "output_type": "execute_result",
          "data": {
            "text/plain": [
              "nu_inscricao                   category\n",
              "co_municipio_residencia           int32\n",
              "no_municipio_residencia        category\n",
              "co_uf_residencia                   int8\n",
              "sg_uf_residencia               category\n",
              "nu_idade                        float16\n",
              "tp_sexo                        category\n",
              "tp_estado_civil                    int8\n",
              "tp_cor_raca                        int8\n",
              "tp_nacionalidade                   int8\n",
              "co_municipio_nascimento         float32\n",
              "no_municipio_nascimento        category\n",
              "co_uf_nascimento                float16\n",
              "sg_uf_nascimento               category\n",
              "tp_st_conclusao                    int8\n",
              "tp_ano_concluiu                    int8\n",
              "tp_escola                          int8\n",
              "tp_ensino                       float16\n",
              "in_treineiro                       int8\n",
              "co_escola                       float32\n",
              "co_municipio_esc                float32\n",
              "no_municipio_esc               category\n",
              "co_uf_esc                       float16\n",
              "sg_uf_esc                      category\n",
              "tp_dependencia_adm_esc          float16\n",
              "tp_localizacao_esc              float16\n",
              "tp_sit_func_esc                 float16\n",
              "in_baixa_visao                     int8\n",
              "in_cegueira                        int8\n",
              "in_surdez                          int8\n",
              "in_deficiencia_auditiva            int8\n",
              "in_surdo_cegueira                  int8\n",
              "in_deficiencia_fisica              int8\n",
              "in_deficiencia_mental              int8\n",
              "in_deficit_atencao                 int8\n",
              "in_dislexia                        int8\n",
              "in_discalculia                     int8\n",
              "in_autismo                         int8\n",
              "in_visao_monocular                 int8\n",
              "in_outra_def                       int8\n",
              "in_gestante                        int8\n",
              "in_lactante                        int8\n",
              "in_idoso                           int8\n",
              "in_estuda_classe_hospitalar        int8\n",
              "in_sem_recurso                     int8\n",
              "in_braille                         int8\n",
              "in_ampliada_24                     int8\n",
              "in_ampliada_18                     int8\n",
              "in_ledor                           int8\n",
              "in_acesso                          int8\n",
              "in_transcricao                     int8\n",
              "in_libras                          int8\n",
              "in_tempo_adicional                 int8\n",
              "in_leitura_labial                  int8\n",
              "in_mesa_cadeira_rodas              int8\n",
              "in_mesa_cadeira_separada           int8\n",
              "in_apoio_perna                     int8\n",
              "in_guia_interprete                 int8\n",
              "in_computador                      int8\n",
              "in_cadeira_especial                int8\n",
              "in_cadeira_canhoto                 int8\n",
              "in_cadeira_acolchoada              int8\n",
              "in_prova_deitado                   int8\n",
              "in_mobiliario_obeso                int8\n",
              "in_lamina_overlay                  int8\n",
              "in_protetor_auricular              int8\n",
              "in_medidor_glicose                 int8\n",
              "in_maquina_braile                  int8\n",
              "in_soroban                         int8\n",
              "in_marca_passo                     int8\n",
              "in_sonda                           int8\n",
              "in_medicamentos                    int8\n",
              "in_sala_individual                 int8\n",
              "in_sala_especial                   int8\n",
              "in_sala_acompanhante               int8\n",
              "in_mobiliario_especifico           int8\n",
              "in_material_especifico             int8\n",
              "in_nome_social                     int8\n",
              "co_municipio_prova                int32\n",
              "no_municipio_prova             category\n",
              "co_uf_prova                        int8\n",
              "sg_uf_prova                    category\n",
              "tp_presenca_cn                     int8\n",
              "tp_presenca_ch                     int8\n",
              "tp_presenca_lc                     int8\n",
              "tp_presenca_mt                     int8\n",
              "nu_nota_cn                      float64\n",
              "nu_nota_ch                      float64\n",
              "nu_nota_lc                      float64\n",
              "nu_nota_mt                      float64\n",
              "tp_lingua                          int8\n",
              "tp_status_redacao               float16\n",
              "nu_nota_redacao                 float64\n",
              "q001                           category\n",
              "q002                           category\n",
              "q003                           category\n",
              "q004                           category\n",
              "q005                               int8\n",
              "q006                           category\n",
              "q007                           category\n",
              "q008                           category\n",
              "q009                           category\n",
              "q010                           category\n",
              "q011                           category\n",
              "q012                           category\n",
              "q013                           category\n",
              "q014                           category\n",
              "q015                           category\n",
              "q016                           category\n",
              "q017                           category\n",
              "q018                           category\n",
              "q019                           category\n",
              "q020                           category\n",
              "q021                           category\n",
              "q022                           category\n",
              "q023                           category\n",
              "q024                           category\n",
              "q025                           category\n",
              "dtype: object"
            ]
          },
          "metadata": {},
          "execution_count": 18
        }
      ]
    },
    {
      "cell_type": "markdown",
      "source": [
        "**3.0 DATA FILTERING**"
      ],
      "metadata": {
        "id": "w4KYbkAtKIIv"
      }
    },
    {
      "cell_type": "code",
      "source": [
        "df1 = data.copy()"
      ],
      "metadata": {
        "id": "xdeQedxwKPn3"
      },
      "execution_count": 16,
      "outputs": []
    },
    {
      "cell_type": "markdown",
      "source": [
        "**3.1 FILLOUT NA**"
      ],
      "metadata": {
        "id": "aZIweFXqMran"
      }
    },
    {
      "cell_type": "code",
      "source": [
        "df1 = df1.dropna(subset=['nu_nota_cn', 'nu_nota_ch', 'nu_nota_lc', 'nu_nota_mt', 'nu_nota_redacao'])"
      ],
      "metadata": {
        "id": "fcPZ82j_KVN3"
      },
      "execution_count": 17,
      "outputs": []
    },
    {
      "cell_type": "markdown",
      "source": [
        "**3.2 ESTATÍSTICA DESCRITIVA**"
      ],
      "metadata": {
        "id": "I3qILwILOIoI"
      }
    },
    {
      "cell_type": "code",
      "source": [
        "num_attributes = df1[dados_prova]\n",
        "cat_attributes = data.select_dtypes( exclude=['int64', 'float64', 'datetime64[ns]'])"
      ],
      "metadata": {
        "id": "fvv4bxrlLUJ_"
      },
      "execution_count": 19,
      "outputs": []
    },
    {
      "cell_type": "markdown",
      "source": [
        "Skew: mostra a deformação da sua distribuição em relação a normal\n",
        "\n",
        "**Skew positiva:** deformação para a esquerda\n",
        "\n",
        "**Skew negativa:** deformação para a direita\n",
        "\n",
        "Kurtosis: mostra o quão os dados estão concentrados.\n",
        "\n",
        "Quanto maior a kurtosis mais dados concentrados, ou seja o pico da curva será muito grande\n",
        "\n",
        "Quanto menor a kurtosis,mais dispersos estão os dados, ou seja, o pico da curva será menor"
      ],
      "metadata": {
        "id": "qBWdvSCKPRjH"
      }
    },
    {
      "cell_type": "code",
      "source": [
        "#Central Tendecy - média e mediana\n",
        "ct1 = pd.DataFrame( num_attributes.apply( np.mean ) ).T\n",
        "ct2 = pd.DataFrame( num_attributes.apply( np.median ) ).T\n",
        "\n",
        "#Dispersion - desvio, min, max, range, skew, kurtosis\n",
        "d1 = pd.DataFrame( num_attributes.apply( np.std ) ).T\n",
        "d2 = pd.DataFrame( num_attributes.apply( min ) ).T\n",
        "d3 = pd.DataFrame( num_attributes.apply( max ) ).T\n",
        "d4 = pd.DataFrame( num_attributes.apply( lambda x: x.max() - x.min() ) ).T\n",
        "d5 = pd.DataFrame( num_attributes.apply( lambda x: x.skew() ) ).T\n",
        "d6 = pd.DataFrame( num_attributes.apply( lambda x: x.kurtosis() ) ).T\n",
        "\n",
        "#concat\n",
        "m = pd.concat( [d2, d3, d4, ct1, ct2, d1, d5, d6]).T.reset_index()\n",
        "m.columns = ['attributes', 'min','max','range','mean','median','std','skew','kurtosis']\n",
        "m"
      ],
      "metadata": {
        "colab": {
          "base_uri": "https://localhost:8080/",
          "height": 394
        },
        "id": "xayXmBCYOotd",
        "outputId": "9e17a2fd-8981-4895-ce7a-810d8c9ea05d"
      },
      "execution_count": 21,
      "outputs": [
        {
          "output_type": "execute_result",
          "data": {
            "text/plain": [
              "           attributes  min     max   range   mean  median    std  skew  kurtosis\n",
              "0      tp_presenca_cn 1.00    1.00    0.00   1.00    1.00   0.00  0.00      0.00\n",
              "1      tp_presenca_ch 1.00    1.00    0.00   1.00    1.00   0.00  0.00      0.00\n",
              "2      tp_presenca_lc 1.00    1.00    0.00   1.00    1.00   0.00  0.00      0.00\n",
              "3      tp_presenca_mt 1.00    1.00    0.00   1.00    1.00   0.00  0.00      0.00\n",
              "4          nu_nota_cn 0.00  860.90  860.90 477.87  470.30  76.04  0.36     -0.25\n",
              "5          nu_nota_ch 0.00  835.10  835.10 509.87  513.30  81.02 -0.19      0.41\n",
              "6          nu_nota_lc 0.00  801.70  801.70 522.39  527.80  62.76 -0.60      1.41\n",
              "7          nu_nota_mt 0.00  985.50  985.50 523.16  501.10 109.04  0.69     -0.06\n",
              "8           tp_lingua 0.00    1.00    1.00   0.50    1.00   0.50 -0.02     -2.00\n",
              "9   tp_status_redacao 1.00    9.00    8.00    NaN    1.00   0.00   NaN       NaN\n",
              "10    nu_nota_redacao 0.00 1000.00 1000.00 579.71  580.00 182.46 -0.63      1.47"
            ],
            "text/html": [
              "\n",
              "  <div id=\"df-cb5976ae-9dc1-4cef-aa90-1ca026bd1e93\">\n",
              "    <div class=\"colab-df-container\">\n",
              "      <div>\n",
              "<style scoped>\n",
              "    .dataframe tbody tr th:only-of-type {\n",
              "        vertical-align: middle;\n",
              "    }\n",
              "\n",
              "    .dataframe tbody tr th {\n",
              "        vertical-align: top;\n",
              "    }\n",
              "\n",
              "    .dataframe thead th {\n",
              "        text-align: right;\n",
              "    }\n",
              "</style>\n",
              "<table border=\"1\" class=\"dataframe\">\n",
              "  <thead>\n",
              "    <tr style=\"text-align: right;\">\n",
              "      <th></th>\n",
              "      <th>attributes</th>\n",
              "      <th>min</th>\n",
              "      <th>max</th>\n",
              "      <th>range</th>\n",
              "      <th>mean</th>\n",
              "      <th>median</th>\n",
              "      <th>std</th>\n",
              "      <th>skew</th>\n",
              "      <th>kurtosis</th>\n",
              "    </tr>\n",
              "  </thead>\n",
              "  <tbody>\n",
              "    <tr>\n",
              "      <th>0</th>\n",
              "      <td>tp_presenca_cn</td>\n",
              "      <td>1.00</td>\n",
              "      <td>1.00</td>\n",
              "      <td>0.00</td>\n",
              "      <td>1.00</td>\n",
              "      <td>1.00</td>\n",
              "      <td>0.00</td>\n",
              "      <td>0.00</td>\n",
              "      <td>0.00</td>\n",
              "    </tr>\n",
              "    <tr>\n",
              "      <th>1</th>\n",
              "      <td>tp_presenca_ch</td>\n",
              "      <td>1.00</td>\n",
              "      <td>1.00</td>\n",
              "      <td>0.00</td>\n",
              "      <td>1.00</td>\n",
              "      <td>1.00</td>\n",
              "      <td>0.00</td>\n",
              "      <td>0.00</td>\n",
              "      <td>0.00</td>\n",
              "    </tr>\n",
              "    <tr>\n",
              "      <th>2</th>\n",
              "      <td>tp_presenca_lc</td>\n",
              "      <td>1.00</td>\n",
              "      <td>1.00</td>\n",
              "      <td>0.00</td>\n",
              "      <td>1.00</td>\n",
              "      <td>1.00</td>\n",
              "      <td>0.00</td>\n",
              "      <td>0.00</td>\n",
              "      <td>0.00</td>\n",
              "    </tr>\n",
              "    <tr>\n",
              "      <th>3</th>\n",
              "      <td>tp_presenca_mt</td>\n",
              "      <td>1.00</td>\n",
              "      <td>1.00</td>\n",
              "      <td>0.00</td>\n",
              "      <td>1.00</td>\n",
              "      <td>1.00</td>\n",
              "      <td>0.00</td>\n",
              "      <td>0.00</td>\n",
              "      <td>0.00</td>\n",
              "    </tr>\n",
              "    <tr>\n",
              "      <th>4</th>\n",
              "      <td>nu_nota_cn</td>\n",
              "      <td>0.00</td>\n",
              "      <td>860.90</td>\n",
              "      <td>860.90</td>\n",
              "      <td>477.87</td>\n",
              "      <td>470.30</td>\n",
              "      <td>76.04</td>\n",
              "      <td>0.36</td>\n",
              "      <td>-0.25</td>\n",
              "    </tr>\n",
              "    <tr>\n",
              "      <th>5</th>\n",
              "      <td>nu_nota_ch</td>\n",
              "      <td>0.00</td>\n",
              "      <td>835.10</td>\n",
              "      <td>835.10</td>\n",
              "      <td>509.87</td>\n",
              "      <td>513.30</td>\n",
              "      <td>81.02</td>\n",
              "      <td>-0.19</td>\n",
              "      <td>0.41</td>\n",
              "    </tr>\n",
              "    <tr>\n",
              "      <th>6</th>\n",
              "      <td>nu_nota_lc</td>\n",
              "      <td>0.00</td>\n",
              "      <td>801.70</td>\n",
              "      <td>801.70</td>\n",
              "      <td>522.39</td>\n",
              "      <td>527.80</td>\n",
              "      <td>62.76</td>\n",
              "      <td>-0.60</td>\n",
              "      <td>1.41</td>\n",
              "    </tr>\n",
              "    <tr>\n",
              "      <th>7</th>\n",
              "      <td>nu_nota_mt</td>\n",
              "      <td>0.00</td>\n",
              "      <td>985.50</td>\n",
              "      <td>985.50</td>\n",
              "      <td>523.16</td>\n",
              "      <td>501.10</td>\n",
              "      <td>109.04</td>\n",
              "      <td>0.69</td>\n",
              "      <td>-0.06</td>\n",
              "    </tr>\n",
              "    <tr>\n",
              "      <th>8</th>\n",
              "      <td>tp_lingua</td>\n",
              "      <td>0.00</td>\n",
              "      <td>1.00</td>\n",
              "      <td>1.00</td>\n",
              "      <td>0.50</td>\n",
              "      <td>1.00</td>\n",
              "      <td>0.50</td>\n",
              "      <td>-0.02</td>\n",
              "      <td>-2.00</td>\n",
              "    </tr>\n",
              "    <tr>\n",
              "      <th>9</th>\n",
              "      <td>tp_status_redacao</td>\n",
              "      <td>1.00</td>\n",
              "      <td>9.00</td>\n",
              "      <td>8.00</td>\n",
              "      <td>NaN</td>\n",
              "      <td>1.00</td>\n",
              "      <td>0.00</td>\n",
              "      <td>NaN</td>\n",
              "      <td>NaN</td>\n",
              "    </tr>\n",
              "    <tr>\n",
              "      <th>10</th>\n",
              "      <td>nu_nota_redacao</td>\n",
              "      <td>0.00</td>\n",
              "      <td>1000.00</td>\n",
              "      <td>1000.00</td>\n",
              "      <td>579.71</td>\n",
              "      <td>580.00</td>\n",
              "      <td>182.46</td>\n",
              "      <td>-0.63</td>\n",
              "      <td>1.47</td>\n",
              "    </tr>\n",
              "  </tbody>\n",
              "</table>\n",
              "</div>\n",
              "      <button class=\"colab-df-convert\" onclick=\"convertToInteractive('df-cb5976ae-9dc1-4cef-aa90-1ca026bd1e93')\"\n",
              "              title=\"Convert this dataframe to an interactive table.\"\n",
              "              style=\"display:none;\">\n",
              "        \n",
              "  <svg xmlns=\"http://www.w3.org/2000/svg\" height=\"24px\"viewBox=\"0 0 24 24\"\n",
              "       width=\"24px\">\n",
              "    <path d=\"M0 0h24v24H0V0z\" fill=\"none\"/>\n",
              "    <path d=\"M18.56 5.44l.94 2.06.94-2.06 2.06-.94-2.06-.94-.94-2.06-.94 2.06-2.06.94zm-11 1L8.5 8.5l.94-2.06 2.06-.94-2.06-.94L8.5 2.5l-.94 2.06-2.06.94zm10 10l.94 2.06.94-2.06 2.06-.94-2.06-.94-.94-2.06-.94 2.06-2.06.94z\"/><path d=\"M17.41 7.96l-1.37-1.37c-.4-.4-.92-.59-1.43-.59-.52 0-1.04.2-1.43.59L10.3 9.45l-7.72 7.72c-.78.78-.78 2.05 0 2.83L4 21.41c.39.39.9.59 1.41.59.51 0 1.02-.2 1.41-.59l7.78-7.78 2.81-2.81c.8-.78.8-2.07 0-2.86zM5.41 20L4 18.59l7.72-7.72 1.47 1.35L5.41 20z\"/>\n",
              "  </svg>\n",
              "      </button>\n",
              "      \n",
              "  <style>\n",
              "    .colab-df-container {\n",
              "      display:flex;\n",
              "      flex-wrap:wrap;\n",
              "      gap: 12px;\n",
              "    }\n",
              "\n",
              "    .colab-df-convert {\n",
              "      background-color: #E8F0FE;\n",
              "      border: none;\n",
              "      border-radius: 50%;\n",
              "      cursor: pointer;\n",
              "      display: none;\n",
              "      fill: #1967D2;\n",
              "      height: 32px;\n",
              "      padding: 0 0 0 0;\n",
              "      width: 32px;\n",
              "    }\n",
              "\n",
              "    .colab-df-convert:hover {\n",
              "      background-color: #E2EBFA;\n",
              "      box-shadow: 0px 1px 2px rgba(60, 64, 67, 0.3), 0px 1px 3px 1px rgba(60, 64, 67, 0.15);\n",
              "      fill: #174EA6;\n",
              "    }\n",
              "\n",
              "    [theme=dark] .colab-df-convert {\n",
              "      background-color: #3B4455;\n",
              "      fill: #D2E3FC;\n",
              "    }\n",
              "\n",
              "    [theme=dark] .colab-df-convert:hover {\n",
              "      background-color: #434B5C;\n",
              "      box-shadow: 0px 1px 3px 1px rgba(0, 0, 0, 0.15);\n",
              "      filter: drop-shadow(0px 1px 2px rgba(0, 0, 0, 0.3));\n",
              "      fill: #FFFFFF;\n",
              "    }\n",
              "  </style>\n",
              "\n",
              "      <script>\n",
              "        const buttonEl =\n",
              "          document.querySelector('#df-cb5976ae-9dc1-4cef-aa90-1ca026bd1e93 button.colab-df-convert');\n",
              "        buttonEl.style.display =\n",
              "          google.colab.kernel.accessAllowed ? 'block' : 'none';\n",
              "\n",
              "        async function convertToInteractive(key) {\n",
              "          const element = document.querySelector('#df-cb5976ae-9dc1-4cef-aa90-1ca026bd1e93');\n",
              "          const dataTable =\n",
              "            await google.colab.kernel.invokeFunction('convertToInteractive',\n",
              "                                                     [key], {});\n",
              "          if (!dataTable) return;\n",
              "\n",
              "          const docLinkHtml = 'Like what you see? Visit the ' +\n",
              "            '<a target=\"_blank\" href=https://colab.research.google.com/notebooks/data_table.ipynb>data table notebook</a>'\n",
              "            + ' to learn more about interactive tables.';\n",
              "          element.innerHTML = '';\n",
              "          dataTable['output_type'] = 'display_data';\n",
              "          await google.colab.output.renderOutput(dataTable, element);\n",
              "          const docLink = document.createElement('div');\n",
              "          docLink.innerHTML = docLinkHtml;\n",
              "          element.appendChild(docLink);\n",
              "        }\n",
              "      </script>\n",
              "    </div>\n",
              "  </div>\n",
              "  "
            ]
          },
          "metadata": {},
          "execution_count": 21
        }
      ]
    },
    {
      "cell_type": "markdown",
      "source": [
        "4.0 EXPLORE DATA ANALYSIS"
      ],
      "metadata": {
        "id": "KJMG6YRnPiUc"
      }
    },
    {
      "cell_type": "code",
      "source": [
        "df2 = df1.copy()"
      ],
      "metadata": {
        "id": "cVimHlIMOq5f"
      },
      "execution_count": 22,
      "outputs": []
    },
    {
      "cell_type": "code",
      "source": [
        ""
      ],
      "metadata": {
        "id": "2aZNODGLPnvZ"
      },
      "execution_count": null,
      "outputs": []
    }
  ]
}